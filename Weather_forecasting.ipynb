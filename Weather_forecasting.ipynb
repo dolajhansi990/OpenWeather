{
 "cells": [
  {
   "cell_type": "markdown",
   "id": "4986f46a",
   "metadata": {},
   "source": [
    "# Packages\n",
    "geopy\n",
    "openai\n",
    "requests\n"
   ]
  },
  {
   "cell_type": "code",
   "execution_count": 116,
   "id": "e6b42675",
   "metadata": {},
   "outputs": [
    {
     "name": "stdout",
     "output_type": "stream",
     "text": [
      "Defaulting to user installation because normal site-packages is not writeable\n",
      "Requirement already satisfied: plotly in c:\\programdata\\anaconda3\\lib\\site-packages (5.9.0)\n",
      "Requirement already satisfied: tenacity>=6.2.0 in c:\\programdata\\anaconda3\\lib\\site-packages (from plotly) (8.0.1)\n"
     ]
    }
   ],
   "source": [
    "!pip install plotly"
   ]
  },
  {
   "cell_type": "code",
   "execution_count": 2,
   "id": "c0caebb4",
   "metadata": {},
   "outputs": [],
   "source": [
    "import numpy as np\n",
    "import pandas as pd\n",
    "import matplotlib as mlp\n",
    "import matplotlib.pyplot as plt\n",
    "import seaborn as sns\n",
    "import tensorflow as tf\n",
    "import plotly.express as px\n",
    "from geopy.geocoders import Nominatim as Nom\n",
    "import requests\n",
    "from sklearn.model_selection import train_test_split"
   ]
  },
  {
   "cell_type": "code",
   "execution_count": 3,
   "id": "55b29cb0",
   "metadata": {},
   "outputs": [],
   "source": [
    "# Creating function that can give the info of longitude and latitude of given location using geopy\n",
    "def getCoordinates(location):\n",
    "    nom = Nom(user_agent=\"JV_Tech\")\n",
    "    data = nom.geocode(location)\n",
    "    return data\n"
   ]
  },
  {
   "cell_type": "code",
   "execution_count": 4,
   "id": "7022170a",
   "metadata": {},
   "outputs": [
    {
     "name": "stdout",
     "output_type": "stream",
     "text": [
      "Enter your location: gajuwaka\n",
      "https://api.openweathermap.org/data/2.5/weather?lat=17.6811126&lon=83.18283163264533&appid=ae25746d86454ae3e667957b4b7c1cde\n",
      "[{'id': 804, 'main': 'Clouds', 'description': 'overcast clouds', 'icon': '04d'}]\n",
      "Description: overcast clouds \n",
      "Temperature: 29.68°C \n",
      "Atomspheric Pressure: 1007 hPa \n",
      "Humidity: 64 % \n",
      "{'coord': {'lon': 83.1828, 'lat': 17.6811}, 'weather': [{'id': 804, 'main': 'Clouds', 'description': 'overcast clouds', 'icon': '04d'}], 'base': 'stations', 'main': {'temp': 302.83, 'feels_like': 306.15, 'temp_min': 302.83, 'temp_max': 302.83, 'pressure': 1007, 'humidity': 64, 'sea_level': 1007, 'grnd_level': 1003}, 'visibility': 10000, 'wind': {'speed': 1.08, 'deg': 299, 'gust': 1.28}, 'clouds': {'all': 98}, 'dt': 1691718919, 'sys': {'country': 'IN', 'sunrise': 1691712529, 'sunset': 1691758588}, 'timezone': 19800, 'id': 1253102, 'name': 'Visakhapatnam', 'cod': 200}\n"
     ]
    }
   ],
   "source": [
    "\n",
    "\n",
    "#api key of openweathermap\n",
    "api_key = \"ae25746d86454ae3e667957b4b7c1cde\"\n",
    "\n",
    "# Taking location from user\n",
    "location = input(\"Enter your location: \")\n",
    "\n",
    "# Finding coordinates for the given location\n",
    "details = getCoordinates(location)\n",
    "lat = details.latitude\n",
    "lon = details.longitude\n",
    "\n",
    "part = 'current'\n",
    "\n",
    "#url to fetch weatehr data\n",
    "url = f\"https://api.openweathermap.org/data/2.5/weather?lat={lat}&lon={lon}&appid={api_key}\"\n",
    "print(url)\n",
    "\n",
    "response = requests.get(url)\n",
    "data = response.json()\n",
    "\n",
    "if data[\"cod\"] != \"404\":\n",
    " \n",
    "    # store the value of \"main\"\n",
    "    # key in variable y\n",
    "    y = data[\"main\"]\n",
    " \n",
    "    # store the value corresponding\n",
    "    # to the \"temp\" key of y\n",
    "    current_temperature = y[\"temp\"]\n",
    "    \n",
    "    temp_celcius = round(current_temperature - 273.15,2)\n",
    "    \n",
    "    temp_farenheat = temp_celcius*9/5 + 32\n",
    " \n",
    "    # store the value corresponding\n",
    "    # to the \"pressure\" key of y\n",
    "    current_pressure = y[\"pressure\"]\n",
    " \n",
    "    # store the value corresponding\n",
    "    # to the \"humidity\" key of y\n",
    "    current_humidity = y[\"humidity\"]\n",
    " \n",
    "    # store the value of \"weather\"\n",
    "    # key in variable z\n",
    "    z = data[\"weather\"]\n",
    "    print(z)\n",
    " \n",
    "    # store the value corresponding\n",
    "    # to the \"description\" key at\n",
    "    # the 0th index of z\n",
    "    weather_description = z[0][\"description\"]\n",
    " \n",
    "    print(f\"Description: {weather_description} \\nTemperature: {temp_celcius}\\u00b0C \\nAtomspheric Pressure: {current_pressure} hPa \\nHumidity: {current_humidity} % \")\n",
    "    print(data)"
   ]
  },
  {
   "cell_type": "code",
   "execution_count": 11,
   "id": "883000cd",
   "metadata": {},
   "outputs": [
    {
     "name": "stdout",
     "output_type": "stream",
     "text": [
      "\n",
      "\n",
      "the current weather in Hyderabad is mostly sunny with temperatures reaching up to 32°C. It is very hot and humid.\n"
     ]
    }
   ],
   "source": [
    "completion=openai.Completion.create(engine=\"text-davinci-003\",prompt=\"what is the weather conditions now in hyderabad\",max_tokens=1000)\n",
    "print(completion.choices[0]['text'])"
   ]
  },
  {
   "cell_type": "code",
   "execution_count": 6,
   "id": "d079ee13",
   "metadata": {},
   "outputs": [
    {
     "name": "stdout",
     "output_type": "stream",
     "text": [
      "https://api.openweathermap.org/data/2.5/forecast?lat=17.360589&lon=78.4740613&appid=ae25746d86454ae3e667957b4b7c1cde\n",
      "{'cod': '200', 'message': 0, 'cnt': 40, 'list': [{'dt': 1691722800, 'main': {'temp': 299.34, 'feels_like': 299.34, 'temp_min': 299.12, 'temp_max': 299.34, 'pressure': 1013, 'sea_level': 1013, 'grnd_level': 954, 'humidity': 73, 'temp_kf': 0.22}, 'weather': [{'id': 500, 'main': 'Rain', 'description': 'light rain', 'icon': '10d'}], 'clouds': {'all': 40}, 'wind': {'speed': 3.97, 'deg': 292, 'gust': 7.35}, 'visibility': 10000, 'pop': 0.42, 'rain': {'3h': 0.33}, 'sys': {'pod': 'd'}, 'dt_txt': '2023-08-11 03:00:00'}, {'dt': 1691733600, 'main': {'temp': 300.55, 'feels_like': 302.4, 'temp_min': 300.55, 'temp_max': 302.96, 'pressure': 1012, 'sea_level': 1012, 'grnd_level': 954, 'humidity': 67, 'temp_kf': -2.41}, 'weather': [{'id': 500, 'main': 'Rain', 'description': 'light rain', 'icon': '10d'}], 'clouds': {'all': 60}, 'wind': {'speed': 4.93, 'deg': 310, 'gust': 5.22}, 'visibility': 10000, 'pop': 0.41, 'rain': {'3h': 0.14}, 'sys': {'pod': 'd'}, 'dt_txt': '2023-08-11 06:00:00'}, {'dt': 1691744400, 'main': {'temp': 302.8, 'feels_like': 304.8, 'temp_min': 302.8, 'temp_max': 304.53, 'pressure': 1009, 'sea_level': 1009, 'grnd_level': 952, 'humidity': 57, 'temp_kf': -1.73}, 'weather': [{'id': 500, 'main': 'Rain', 'description': 'light rain', 'icon': '10d'}], 'clouds': {'all': 75}, 'wind': {'speed': 4.76, 'deg': 325, 'gust': 4.32}, 'visibility': 10000, 'pop': 0.26, 'rain': {'3h': 0.22}, 'sys': {'pod': 'd'}, 'dt_txt': '2023-08-11 09:00:00'}, {'dt': 1691755200, 'main': {'temp': 301.89, 'feels_like': 304.04, 'temp_min': 301.89, 'temp_max': 301.89, 'pressure': 1007, 'sea_level': 1007, 'grnd_level': 951, 'humidity': 62, 'temp_kf': 0}, 'weather': [{'id': 804, 'main': 'Clouds', 'description': 'overcast clouds', 'icon': '04d'}], 'clouds': {'all': 93}, 'wind': {'speed': 3.46, 'deg': 308, 'gust': 5.26}, 'visibility': 10000, 'pop': 0.24, 'sys': {'pod': 'd'}, 'dt_txt': '2023-08-11 12:00:00'}, {'dt': 1691766000, 'main': {'temp': 300.46, 'feels_like': 302.25, 'temp_min': 300.46, 'temp_max': 300.46, 'pressure': 1009, 'sea_level': 1009, 'grnd_level': 953, 'humidity': 67, 'temp_kf': 0}, 'weather': [{'id': 804, 'main': 'Clouds', 'description': 'overcast clouds', 'icon': '04n'}], 'clouds': {'all': 88}, 'wind': {'speed': 2.58, 'deg': 317, 'gust': 3.93}, 'visibility': 10000, 'pop': 0.18, 'sys': {'pod': 'n'}, 'dt_txt': '2023-08-11 15:00:00'}, {'dt': 1691776800, 'main': {'temp': 299.33, 'feels_like': 299.33, 'temp_min': 299.33, 'temp_max': 299.33, 'pressure': 1009, 'sea_level': 1009, 'grnd_level': 953, 'humidity': 70, 'temp_kf': 0}, 'weather': [{'id': 803, 'main': 'Clouds', 'description': 'broken clouds', 'icon': '04n'}], 'clouds': {'all': 71}, 'wind': {'speed': 2.01, 'deg': 326, 'gust': 2.69}, 'visibility': 10000, 'pop': 0.13, 'sys': {'pod': 'n'}, 'dt_txt': '2023-08-11 18:00:00'}, {'dt': 1691787600, 'main': {'temp': 298.65, 'feels_like': 299.16, 'temp_min': 298.65, 'temp_max': 298.65, 'pressure': 1008, 'sea_level': 1008, 'grnd_level': 951, 'humidity': 73, 'temp_kf': 0}, 'weather': [{'id': 804, 'main': 'Clouds', 'description': 'overcast clouds', 'icon': '04n'}], 'clouds': {'all': 87}, 'wind': {'speed': 2.25, 'deg': 286, 'gust': 3.17}, 'visibility': 10000, 'pop': 0.14, 'sys': {'pod': 'n'}, 'dt_txt': '2023-08-11 21:00:00'}, {'dt': 1691798400, 'main': {'temp': 297.48, 'feels_like': 298.03, 'temp_min': 297.48, 'temp_max': 297.48, 'pressure': 1009, 'sea_level': 1009, 'grnd_level': 952, 'humidity': 79, 'temp_kf': 0}, 'weather': [{'id': 500, 'main': 'Rain', 'description': 'light rain', 'icon': '10n'}], 'clouds': {'all': 67}, 'wind': {'speed': 2.82, 'deg': 287, 'gust': 6.15}, 'visibility': 10000, 'pop': 0.46, 'rain': {'3h': 0.56}, 'sys': {'pod': 'n'}, 'dt_txt': '2023-08-12 00:00:00'}, {'dt': 1691809200, 'main': {'temp': 299.83, 'feels_like': 301.62, 'temp_min': 299.83, 'temp_max': 299.83, 'pressure': 1010, 'sea_level': 1010, 'grnd_level': 954, 'humidity': 72, 'temp_kf': 0}, 'weather': [{'id': 500, 'main': 'Rain', 'description': 'light rain', 'icon': '10d'}], 'clouds': {'all': 37}, 'wind': {'speed': 5.25, 'deg': 312, 'gust': 6.65}, 'visibility': 10000, 'pop': 0.64, 'rain': {'3h': 0.17}, 'sys': {'pod': 'd'}, 'dt_txt': '2023-08-12 03:00:00'}, {'dt': 1691820000, 'main': {'temp': 302.52, 'feels_like': 304.66, 'temp_min': 302.52, 'temp_max': 302.52, 'pressure': 1009, 'sea_level': 1009, 'grnd_level': 954, 'humidity': 59, 'temp_kf': 0}, 'weather': [{'id': 501, 'main': 'Rain', 'description': 'moderate rain', 'icon': '10d'}], 'clouds': {'all': 66}, 'wind': {'speed': 4.86, 'deg': 312, 'gust': 5.34}, 'visibility': 7472, 'pop': 0.84, 'rain': {'3h': 4.11}, 'sys': {'pod': 'd'}, 'dt_txt': '2023-08-12 06:00:00'}, {'dt': 1691830800, 'main': {'temp': 303.73, 'feels_like': 305.84, 'temp_min': 303.73, 'temp_max': 303.73, 'pressure': 1007, 'sea_level': 1007, 'grnd_level': 951, 'humidity': 54, 'temp_kf': 0}, 'weather': [{'id': 500, 'main': 'Rain', 'description': 'light rain', 'icon': '10d'}], 'clouds': {'all': 96}, 'wind': {'speed': 5.17, 'deg': 294, 'gust': 6.27}, 'visibility': 10000, 'pop': 0.79, 'rain': {'3h': 2}, 'sys': {'pod': 'd'}, 'dt_txt': '2023-08-12 09:00:00'}, {'dt': 1691841600, 'main': {'temp': 301.65, 'feels_like': 303.77, 'temp_min': 301.65, 'temp_max': 301.65, 'pressure': 1007, 'sea_level': 1007, 'grnd_level': 951, 'humidity': 63, 'temp_kf': 0}, 'weather': [{'id': 500, 'main': 'Rain', 'description': 'light rain', 'icon': '10d'}], 'clouds': {'all': 98}, 'wind': {'speed': 3.88, 'deg': 298, 'gust': 6.82}, 'visibility': 10000, 'pop': 0.74, 'rain': {'3h': 0.19}, 'sys': {'pod': 'd'}, 'dt_txt': '2023-08-12 12:00:00'}, {'dt': 1691852400, 'main': {'temp': 300.08, 'feels_like': 301.81, 'temp_min': 300.08, 'temp_max': 300.08, 'pressure': 1009, 'sea_level': 1009, 'grnd_level': 953, 'humidity': 69, 'temp_kf': 0}, 'weather': [{'id': 804, 'main': 'Clouds', 'description': 'overcast clouds', 'icon': '04n'}], 'clouds': {'all': 100}, 'wind': {'speed': 2.4, 'deg': 342, 'gust': 3.89}, 'visibility': 10000, 'pop': 0.02, 'sys': {'pod': 'n'}, 'dt_txt': '2023-08-12 15:00:00'}, {'dt': 1691863200, 'main': {'temp': 299.04, 'feels_like': 299.56, 'temp_min': 299.04, 'temp_max': 299.04, 'pressure': 1009, 'sea_level': 1009, 'grnd_level': 952, 'humidity': 72, 'temp_kf': 0}, 'weather': [{'id': 804, 'main': 'Clouds', 'description': 'overcast clouds', 'icon': '04n'}], 'clouds': {'all': 100}, 'wind': {'speed': 2.74, 'deg': 316, 'gust': 5.6}, 'visibility': 10000, 'pop': 0, 'sys': {'pod': 'n'}, 'dt_txt': '2023-08-12 18:00:00'}, {'dt': 1691874000, 'main': {'temp': 297.6, 'feels_like': 298.14, 'temp_min': 297.6, 'temp_max': 297.6, 'pressure': 1007, 'sea_level': 1007, 'grnd_level': 951, 'humidity': 78, 'temp_kf': 0}, 'weather': [{'id': 804, 'main': 'Clouds', 'description': 'overcast clouds', 'icon': '04n'}], 'clouds': {'all': 96}, 'wind': {'speed': 3.23, 'deg': 279, 'gust': 7.19}, 'visibility': 10000, 'pop': 0, 'sys': {'pod': 'n'}, 'dt_txt': '2023-08-12 21:00:00'}, {'dt': 1691884800, 'main': {'temp': 296.76, 'feels_like': 297.29, 'temp_min': 296.76, 'temp_max': 296.76, 'pressure': 1009, 'sea_level': 1009, 'grnd_level': 952, 'humidity': 81, 'temp_kf': 0}, 'weather': [{'id': 804, 'main': 'Clouds', 'description': 'overcast clouds', 'icon': '04n'}], 'clouds': {'all': 96}, 'wind': {'speed': 3.86, 'deg': 283, 'gust': 9.33}, 'visibility': 10000, 'pop': 0, 'sys': {'pod': 'n'}, 'dt_txt': '2023-08-13 00:00:00'}, {'dt': 1691895600, 'main': {'temp': 298.54, 'feels_like': 298.99, 'temp_min': 298.54, 'temp_max': 298.54, 'pressure': 1010, 'sea_level': 1010, 'grnd_level': 954, 'humidity': 71, 'temp_kf': 0}, 'weather': [{'id': 804, 'main': 'Clouds', 'description': 'overcast clouds', 'icon': '04d'}], 'clouds': {'all': 100}, 'wind': {'speed': 5.7, 'deg': 302, 'gust': 8.35}, 'visibility': 10000, 'pop': 0, 'sys': {'pod': 'd'}, 'dt_txt': '2023-08-13 03:00:00'}, {'dt': 1691906400, 'main': {'temp': 302.07, 'feels_like': 303.61, 'temp_min': 302.07, 'temp_max': 302.07, 'pressure': 1009, 'sea_level': 1009, 'grnd_level': 953, 'humidity': 57, 'temp_kf': 0}, 'weather': [{'id': 804, 'main': 'Clouds', 'description': 'overcast clouds', 'icon': '04d'}], 'clouds': {'all': 100}, 'wind': {'speed': 5.48, 'deg': 296, 'gust': 6.66}, 'visibility': 10000, 'pop': 0, 'sys': {'pod': 'd'}, 'dt_txt': '2023-08-13 06:00:00'}, {'dt': 1691917200, 'main': {'temp': 303.9, 'feels_like': 305.17, 'temp_min': 303.9, 'temp_max': 303.9, 'pressure': 1006, 'sea_level': 1006, 'grnd_level': 951, 'humidity': 49, 'temp_kf': 0}, 'weather': [{'id': 804, 'main': 'Clouds', 'description': 'overcast clouds', 'icon': '04d'}], 'clouds': {'all': 100}, 'wind': {'speed': 6.01, 'deg': 286, 'gust': 7.4}, 'visibility': 10000, 'pop': 0, 'sys': {'pod': 'd'}, 'dt_txt': '2023-08-13 09:00:00'}, {'dt': 1691928000, 'main': {'temp': 301.15, 'feels_like': 302.6, 'temp_min': 301.15, 'temp_max': 301.15, 'pressure': 1007, 'sea_level': 1007, 'grnd_level': 951, 'humidity': 60, 'temp_kf': 0}, 'weather': [{'id': 804, 'main': 'Clouds', 'description': 'overcast clouds', 'icon': '04d'}], 'clouds': {'all': 98}, 'wind': {'speed': 4.82, 'deg': 312, 'gust': 8.14}, 'visibility': 10000, 'pop': 0, 'sys': {'pod': 'd'}, 'dt_txt': '2023-08-13 12:00:00'}, {'dt': 1691938800, 'main': {'temp': 299.57, 'feels_like': 299.57, 'temp_min': 299.57, 'temp_max': 299.57, 'pressure': 1008, 'sea_level': 1008, 'grnd_level': 952, 'humidity': 67, 'temp_kf': 0}, 'weather': [{'id': 804, 'main': 'Clouds', 'description': 'overcast clouds', 'icon': '04n'}], 'clouds': {'all': 99}, 'wind': {'speed': 2.8, 'deg': 328, 'gust': 6.01}, 'visibility': 10000, 'pop': 0, 'sys': {'pod': 'n'}, 'dt_txt': '2023-08-13 15:00:00'}, {'dt': 1691949600, 'main': {'temp': 298.37, 'feels_like': 298.83, 'temp_min': 298.37, 'temp_max': 298.37, 'pressure': 1009, 'sea_level': 1009, 'grnd_level': 952, 'humidity': 72, 'temp_kf': 0}, 'weather': [{'id': 804, 'main': 'Clouds', 'description': 'overcast clouds', 'icon': '04n'}], 'clouds': {'all': 100}, 'wind': {'speed': 2.79, 'deg': 300, 'gust': 5.24}, 'visibility': 10000, 'pop': 0, 'sys': {'pod': 'n'}, 'dt_txt': '2023-08-13 18:00:00'}, {'dt': 1691960400, 'main': {'temp': 297.6, 'feels_like': 298.01, 'temp_min': 297.6, 'temp_max': 297.6, 'pressure': 1007, 'sea_level': 1007, 'grnd_level': 951, 'humidity': 73, 'temp_kf': 0}, 'weather': [{'id': 804, 'main': 'Clouds', 'description': 'overcast clouds', 'icon': '04n'}], 'clouds': {'all': 99}, 'wind': {'speed': 3.23, 'deg': 274, 'gust': 8.95}, 'visibility': 10000, 'pop': 0, 'sys': {'pod': 'n'}, 'dt_txt': '2023-08-13 21:00:00'}, {'dt': 1691971200, 'main': {'temp': 296.54, 'feels_like': 296.97, 'temp_min': 296.54, 'temp_max': 296.54, 'pressure': 1008, 'sea_level': 1008, 'grnd_level': 951, 'humidity': 78, 'temp_kf': 0}, 'weather': [{'id': 804, 'main': 'Clouds', 'description': 'overcast clouds', 'icon': '04n'}], 'clouds': {'all': 99}, 'wind': {'speed': 3.83, 'deg': 270, 'gust': 8.69}, 'visibility': 10000, 'pop': 0, 'sys': {'pod': 'n'}, 'dt_txt': '2023-08-14 00:00:00'}, {'dt': 1691982000, 'main': {'temp': 298.77, 'feels_like': 299.24, 'temp_min': 298.77, 'temp_max': 298.77, 'pressure': 1010, 'sea_level': 1010, 'grnd_level': 954, 'humidity': 71, 'temp_kf': 0}, 'weather': [{'id': 804, 'main': 'Clouds', 'description': 'overcast clouds', 'icon': '04d'}], 'clouds': {'all': 100}, 'wind': {'speed': 5.23, 'deg': 288, 'gust': 7.28}, 'visibility': 10000, 'pop': 0, 'sys': {'pod': 'd'}, 'dt_txt': '2023-08-14 03:00:00'}, {'dt': 1691992800, 'main': {'temp': 302.18, 'feels_like': 303.78, 'temp_min': 302.18, 'temp_max': 302.18, 'pressure': 1010, 'sea_level': 1010, 'grnd_level': 954, 'humidity': 57, 'temp_kf': 0}, 'weather': [{'id': 804, 'main': 'Clouds', 'description': 'overcast clouds', 'icon': '04d'}], 'clouds': {'all': 100}, 'wind': {'speed': 5.1, 'deg': 291, 'gust': 6.02}, 'visibility': 10000, 'pop': 0, 'sys': {'pod': 'd'}, 'dt_txt': '2023-08-14 06:00:00'}, {'dt': 1692003600, 'main': {'temp': 304.36, 'feels_like': 305.53, 'temp_min': 304.36, 'temp_max': 304.36, 'pressure': 1006, 'sea_level': 1006, 'grnd_level': 951, 'humidity': 47, 'temp_kf': 0}, 'weather': [{'id': 804, 'main': 'Clouds', 'description': 'overcast clouds', 'icon': '04d'}], 'clouds': {'all': 100}, 'wind': {'speed': 5.53, 'deg': 285, 'gust': 6.52}, 'visibility': 10000, 'pop': 0, 'sys': {'pod': 'd'}, 'dt_txt': '2023-08-14 09:00:00'}, {'dt': 1692014400, 'main': {'temp': 302.22, 'feels_like': 303.7, 'temp_min': 302.22, 'temp_max': 302.22, 'pressure': 1007, 'sea_level': 1007, 'grnd_level': 951, 'humidity': 56, 'temp_kf': 0}, 'weather': [{'id': 804, 'main': 'Clouds', 'description': 'overcast clouds', 'icon': '04d'}], 'clouds': {'all': 100}, 'wind': {'speed': 4.06, 'deg': 310, 'gust': 6.97}, 'visibility': 10000, 'pop': 0, 'sys': {'pod': 'd'}, 'dt_txt': '2023-08-14 12:00:00'}, {'dt': 1692025200, 'main': {'temp': 299.38, 'feels_like': 299.38, 'temp_min': 299.38, 'temp_max': 299.38, 'pressure': 1009, 'sea_level': 1009, 'grnd_level': 952, 'humidity': 68, 'temp_kf': 0}, 'weather': [{'id': 804, 'main': 'Clouds', 'description': 'overcast clouds', 'icon': '04n'}], 'clouds': {'all': 100}, 'wind': {'speed': 3.04, 'deg': 337, 'gust': 5.11}, 'visibility': 10000, 'pop': 0, 'sys': {'pod': 'n'}, 'dt_txt': '2023-08-14 15:00:00'}, {'dt': 1692036000, 'main': {'temp': 298.85, 'feels_like': 299.33, 'temp_min': 298.85, 'temp_max': 298.85, 'pressure': 1009, 'sea_level': 1009, 'grnd_level': 953, 'humidity': 71, 'temp_kf': 0}, 'weather': [{'id': 804, 'main': 'Clouds', 'description': 'overcast clouds', 'icon': '04n'}], 'clouds': {'all': 100}, 'wind': {'speed': 2.54, 'deg': 284, 'gust': 4.54}, 'visibility': 10000, 'pop': 0.04, 'sys': {'pod': 'n'}, 'dt_txt': '2023-08-14 18:00:00'}, {'dt': 1692046800, 'main': {'temp': 297.97, 'feels_like': 298.41, 'temp_min': 297.97, 'temp_max': 297.97, 'pressure': 1007, 'sea_level': 1007, 'grnd_level': 951, 'humidity': 73, 'temp_kf': 0}, 'weather': [{'id': 804, 'main': 'Clouds', 'description': 'overcast clouds', 'icon': '04n'}], 'clouds': {'all': 100}, 'wind': {'speed': 4.26, 'deg': 265, 'gust': 9.36}, 'visibility': 10000, 'pop': 0, 'sys': {'pod': 'n'}, 'dt_txt': '2023-08-14 21:00:00'}, {'dt': 1692057600, 'main': {'temp': 296.57, 'feels_like': 297.03, 'temp_min': 296.57, 'temp_max': 296.57, 'pressure': 1008, 'sea_level': 1008, 'grnd_level': 952, 'humidity': 79, 'temp_kf': 0}, 'weather': [{'id': 804, 'main': 'Clouds', 'description': 'overcast clouds', 'icon': '04n'}], 'clouds': {'all': 100}, 'wind': {'speed': 4.09, 'deg': 274, 'gust': 9.25}, 'visibility': 10000, 'pop': 0, 'sys': {'pod': 'n'}, 'dt_txt': '2023-08-15 00:00:00'}, {'dt': 1692068400, 'main': {'temp': 298.83, 'feels_like': 299.31, 'temp_min': 298.83, 'temp_max': 298.83, 'pressure': 1010, 'sea_level': 1010, 'grnd_level': 954, 'humidity': 71, 'temp_kf': 0}, 'weather': [{'id': 804, 'main': 'Clouds', 'description': 'overcast clouds', 'icon': '04d'}], 'clouds': {'all': 100}, 'wind': {'speed': 5.56, 'deg': 286, 'gust': 7.53}, 'visibility': 10000, 'pop': 0.15, 'sys': {'pod': 'd'}, 'dt_txt': '2023-08-15 03:00:00'}, {'dt': 1692079200, 'main': {'temp': 302.62, 'feels_like': 304.18, 'temp_min': 302.62, 'temp_max': 302.62, 'pressure': 1009, 'sea_level': 1009, 'grnd_level': 953, 'humidity': 55, 'temp_kf': 0}, 'weather': [{'id': 804, 'main': 'Clouds', 'description': 'overcast clouds', 'icon': '04d'}], 'clouds': {'all': 97}, 'wind': {'speed': 5.54, 'deg': 287, 'gust': 6.28}, 'visibility': 10000, 'pop': 0.08, 'sys': {'pod': 'd'}, 'dt_txt': '2023-08-15 06:00:00'}, {'dt': 1692090000, 'main': {'temp': 304.8, 'feels_like': 305.83, 'temp_min': 304.8, 'temp_max': 304.8, 'pressure': 1006, 'sea_level': 1006, 'grnd_level': 951, 'humidity': 45, 'temp_kf': 0}, 'weather': [{'id': 804, 'main': 'Clouds', 'description': 'overcast clouds', 'icon': '04d'}], 'clouds': {'all': 85}, 'wind': {'speed': 5.64, 'deg': 280, 'gust': 6.79}, 'visibility': 10000, 'pop': 0.2, 'sys': {'pod': 'd'}, 'dt_txt': '2023-08-15 09:00:00'}, {'dt': 1692100800, 'main': {'temp': 301.1, 'feels_like': 302.64, 'temp_min': 301.1, 'temp_max': 301.1, 'pressure': 1007, 'sea_level': 1007, 'grnd_level': 951, 'humidity': 61, 'temp_kf': 0}, 'weather': [{'id': 804, 'main': 'Clouds', 'description': 'overcast clouds', 'icon': '04d'}], 'clouds': {'all': 92}, 'wind': {'speed': 2.99, 'deg': 275, 'gust': 6.46}, 'visibility': 10000, 'pop': 0.23, 'sys': {'pod': 'd'}, 'dt_txt': '2023-08-15 12:00:00'}, {'dt': 1692111600, 'main': {'temp': 299.89, 'feels_like': 301.23, 'temp_min': 299.89, 'temp_max': 299.89, 'pressure': 1009, 'sea_level': 1009, 'grnd_level': 953, 'humidity': 65, 'temp_kf': 0}, 'weather': [{'id': 804, 'main': 'Clouds', 'description': 'overcast clouds', 'icon': '04n'}], 'clouds': {'all': 89}, 'wind': {'speed': 2.81, 'deg': 330, 'gust': 4.95}, 'visibility': 10000, 'pop': 0.14, 'sys': {'pod': 'n'}, 'dt_txt': '2023-08-15 15:00:00'}, {'dt': 1692122400, 'main': {'temp': 298.85, 'feels_like': 299.3, 'temp_min': 298.85, 'temp_max': 298.85, 'pressure': 1009, 'sea_level': 1009, 'grnd_level': 953, 'humidity': 70, 'temp_kf': 0}, 'weather': [{'id': 804, 'main': 'Clouds', 'description': 'overcast clouds', 'icon': '04n'}], 'clouds': {'all': 87}, 'wind': {'speed': 2.73, 'deg': 291, 'gust': 5.51}, 'visibility': 10000, 'pop': 0, 'sys': {'pod': 'n'}, 'dt_txt': '2023-08-15 18:00:00'}, {'dt': 1692133200, 'main': {'temp': 297.58, 'feels_like': 297.93, 'temp_min': 297.58, 'temp_max': 297.58, 'pressure': 1008, 'sea_level': 1008, 'grnd_level': 952, 'humidity': 71, 'temp_kf': 0}, 'weather': [{'id': 804, 'main': 'Clouds', 'description': 'overcast clouds', 'icon': '04n'}], 'clouds': {'all': 99}, 'wind': {'speed': 4.72, 'deg': 275, 'gust': 10.56}, 'visibility': 10000, 'pop': 0.04, 'sys': {'pod': 'n'}, 'dt_txt': '2023-08-15 21:00:00'}, {'dt': 1692144000, 'main': {'temp': 296.24, 'feels_like': 296.64, 'temp_min': 296.24, 'temp_max': 296.24, 'pressure': 1009, 'sea_level': 1009, 'grnd_level': 952, 'humidity': 78, 'temp_kf': 0}, 'weather': [{'id': 804, 'main': 'Clouds', 'description': 'overcast clouds', 'icon': '04n'}], 'clouds': {'all': 99}, 'wind': {'speed': 4.49, 'deg': 281, 'gust': 10.31}, 'visibility': 10000, 'pop': 0, 'sys': {'pod': 'n'}, 'dt_txt': '2023-08-16 00:00:00'}], 'city': {'id': 1269843, 'name': 'Hyderabad', 'coord': {'lat': 17.3606, 'lon': 78.4741}, 'country': 'IN', 'population': 3597816, 'timezone': 19800, 'sunrise': 1691713683, 'sunset': 1691759694}}\n"
     ]
    }
   ],
   "source": [
    "city_data = getCoordinates(location)\n",
    "lat= city_data.latitude\n",
    "lon = city_data.longitude\n",
    "url = f\"https://api.openweathermap.org/data/2.5/forecast?lat={lat}&lon={lon}&appid={api_key}\"\n",
    "print(url)\n",
    "response = requests.get(url)\n",
    "data = response.json()\n"
   ]
  },
  {
   "cell_type": "code",
   "execution_count": 138,
   "id": "6ae8dde8",
   "metadata": {
    "scrolled": true
   },
   "outputs": [
    {
     "name": "stdout",
     "output_type": "stream",
     "text": [
      "dict_keys(['cod', 'message', 'cnt', 'list', 'city'])\n"
     ]
    },
    {
     "data": {
      "text/plain": [
       "{'dt': 1691604000,\n",
       " 'main': {'temp': 297.34,\n",
       "  'feels_like': 298.11,\n",
       "  'temp_min': 297.34,\n",
       "  'temp_max': 297.78,\n",
       "  'pressure': 1013,\n",
       "  'sea_level': 1013,\n",
       "  'grnd_level': 953,\n",
       "  'humidity': 88,\n",
       "  'temp_kf': -0.44},\n",
       " 'weather': [{'id': 803,\n",
       "   'main': 'Clouds',\n",
       "   'description': 'broken clouds',\n",
       "   'icon': '04n'}],\n",
       " 'clouds': {'all': 75},\n",
       " 'wind': {'speed': 2.41, 'deg': 305, 'gust': 3.73},\n",
       " 'visibility': 10000,\n",
       " 'pop': 0,\n",
       " 'sys': {'pod': 'n'},\n",
       " 'dt_txt': '2023-08-09 18:00:00'}"
      ]
     },
     "execution_count": 138,
     "metadata": {},
     "output_type": "execute_result"
    }
   ],
   "source": [
    "print(data.keys())\n",
    "data['list'][0]"
   ]
  },
  {
   "cell_type": "code",
   "execution_count": 99,
   "id": "6efd0c8d",
   "metadata": {},
   "outputs": [],
   "source": [
    "temperatures = []\n",
    "\n",
    "for i in range(len(data['list'])):\n",
    "    row = []\n",
    "    row.append(data['list'][i]['dt_txt'])\n",
    "    row.append(data['list'][i]['main']['temp_min'])\n",
    "    row.append(data['list'][i]['main']['temp'])\n",
    "    row.append(data['list'][i]['main']['temp_max'])\n",
    "    temperatures.append(row)\n",
    "columns = ['Date_Time', \"Minimum Temperature\",\"Temperature\", \"Maximum Temperature\"]\n",
    "df = pd.DataFrame(temperatures, columns=columns)\n"
   ]
  },
  {
   "cell_type": "code",
   "execution_count": null,
   "id": "047a2b22",
   "metadata": {},
   "outputs": [],
   "source": [
    "temps = []\n",
    "min_temps = []\n",
    "max_temps = []\n",
    "humidities = []\n",
    "pressures = []\n",
    "dates = []\n",
    "for i in range(len(data['list'])):\n",
    "    dates.append(data['list'][i]['dt_txt'])\n",
    "    min_temps.append(data['list'][i]['main']['temp_min'] - 273.15)\n",
    "    temps.append(data['list'][i]['main']['temp'] - 273.15)\n",
    "    max_temps.append(data['list'][i]['main']['temp_max'] - 273.15)\n",
    "    humidities.append(data['list'][i]['main']['humidity'])\n",
    "    pressures.append(data['list'][i]['main']['pressure'])"
   ]
  },
  {
   "cell_type": "code",
   "execution_count": 50,
   "id": "4aea2f5e",
   "metadata": {
    "scrolled": true
   },
   "outputs": [
    {
     "data": {
      "image/png": "[encoded data removed]",
      "text/plain": [
       "<Figure size 1500x500 with 1 Axes>"
      ]
     },
     "metadata": {},
     "output_type": "display_data"
    }
   ],
   "source": [
    "    \n",
    "fig, ax = plt.subplots()\n",
    "plt.plot(dates[::8], temps[::8], color=\"green\")\n",
    "plt.title(\"5 Days Weather Forecast\")\n",
    "plt.xlabel(\"Dates\")\n",
    "plt.ylabel(\"Temperatures (\\u00b0C)\")\n",
    "plt.show()"
   ]
  },
  {
   "cell_type": "code",
   "execution_count": 53,
   "id": "d52c02b3",
   "metadata": {},
   "outputs": [
    {
     "data": {
      "image/png": "[encoded data removed]",
      "text/plain": [
       "<Figure size 640x480 with 1 Axes>"
      ]
     },
     "metadata": {},
     "output_type": "display_data"
    }
   ],
   "source": [
    "x_values = [1, 2, 3, 4, 5]\n",
    "dataset1 = [10, 15, 25, 20, 30]\n",
    "dataset2 = [5, 10, 15, 10, 5]\n",
    "dataset3 = [2, 5, 8, 6, 10]\n",
    "fig, ax = subplots()\n",
    "ax.stackplot(dates[::8], min_temps[::8], temps[::8], max_temps[::8], labels=['Dataset 1', 'Dataset 2', 'Dataset 3'])\n",
    "ax.legend(loc='upper left')\n",
    "ax.xlabel('X-axis Label')\n",
    "ax.ylabel('Y-axis Label')\n",
    "ax.title('Stacked Area Graph')\n",
    "plt.show()\n"
   ]
  },
  {
   "cell_type": "code",
   "execution_count": 100,
   "id": "ef1ad1c9",
   "metadata": {},
   "outputs": [
    {
     "data": {
      "text/plain": [
       "Index(['Date_Time', 'Minimum Temperature', 'Temperature',\n",
       "       'Maximum Temperature'],\n",
       "      dtype='object')"
      ]
     },
     "execution_count": 100,
     "metadata": {},
     "output_type": "execute_result"
    }
   ],
   "source": [
    "#converting temperature from celvin to celcius\n",
    "\n",
    "df['Minimum Temperature'] = df['Minimum Temperature'] - 273.15\n",
    "df['Temperature'] = df['Temperature'] - 273.15\n",
    "df['Maximum Temperature'] = df['Maximum Temperature'] - 273.15\n",
    "df.columns"
   ]
  },
  {
   "cell_type": "code",
   "execution_count": 101,
   "id": "1d27ec2e",
   "metadata": {
    "scrolled": false
   },
   "outputs": [
    {
     "name": "stdout",
     "output_type": "stream",
     "text": [
      "<class 'pandas.core.frame.DataFrame'>\n",
      "RangeIndex: 40 entries, 0 to 39\n",
      "Data columns (total 4 columns):\n",
      " #   Column               Non-Null Count  Dtype  \n",
      "---  ------               --------------  -----  \n",
      " 0   Date_Time            40 non-null     object \n",
      " 1   Minimum Temperature  40 non-null     float64\n",
      " 2   Temperature          40 non-null     float64\n",
      " 3   Maximum Temperature  40 non-null     float64\n",
      "dtypes: float64(3), object(1)\n",
      "memory usage: 1.4+ KB\n"
     ]
    }
   ],
   "source": [
    "df.info()"
   ]
  },
  {
   "cell_type": "code",
   "execution_count": 102,
   "id": "c61edf36",
   "metadata": {},
   "outputs": [],
   "source": [
    "date_times = df.pop('Date_Time')\n",
    "date_times = pd.to_datetime(date_times, format=\"%Y-%m-%d %H:%M:%S\")"
   ]
  },
  {
   "cell_type": "code",
   "execution_count": 35,
   "id": "c478148f",
   "metadata": {
    "scrolled": true
   },
   "outputs": [
    {
     "data": {
      "image/png": "[encoded data removed]",
      "text/plain": [
       "<Figure size 640x480 with 3 Axes>"
      ]
     },
     "metadata": {},
     "output_type": "display_data"
    }
   ],
   "source": [
    "df.columns\n",
    "plot_cols = [\"Minimum Temperature\", \"Temperature\", \"Maximum Temperature\"]\n",
    "plot_features = df[plot_cols]\n",
    "plot_features.index = date_times\n",
    "chart = plot_features.plot(subplots=True)"
   ]
  },
  {
   "cell_type": "code",
   "execution_count": 18,
   "id": "ae94e59c",
   "metadata": {},
   "outputs": [
    {
     "data": {
      "image/png": "[encoded data removed]",
      "text/plain": [
       "<Figure size 640x480 with 1 Axes>"
      ]
     },
     "metadata": {},
     "output_type": "display_data"
    }
   ],
   "source": [
    "df.plot.area(stacked=False)\n",
    "plt.show()"
   ]
  },
  {
   "cell_type": "code",
   "execution_count": 118,
   "id": "5d00f472",
   "metadata": {},
   "outputs": [
    {
     "data": {
      "application/vnd.plotly.v1+json": {
       "config": {
        "plotlyServerURL": "https://plot.ly"
       },
       "data": [
        {
         "fillpattern": {
          "shape": ""
         },
         "hovertemplate": "variable=Minimum Temperature<br>x=%{x}<br>value=%{y}<extra></extra>",
         "legendgroup": "Minimum Temperature",
         "line": {
          "color": "#636efa"
         },
         "marker": {
          "symbol": "circle"
         },
         "mode": "lines",
         "name": "Minimum Temperature",
         "orientation": "v",
         "showlegend": true,
         "stackgroup": "1",
         "type": "scatter",
         "x": [
          0,
          3,
          6,
          9,
          12,
          15,
          18,
          21,
          24,
          27,
          30,
          33,
          36,
          39,
          42,
          45,
          48,
          51,
          54,
          57,
          60,
          63,
          66,
          69,
          72,
          75,
          78,
          81,
          84,
          87,
          90,
          93,
          96,
          99,
          102,
          105,
          108,
          111,
          114,
          117
         ],
         "xaxis": "x",
         "y": [
          23.680000000000007,
          24.590000000000032,
          27.29000000000002,
          31.03000000000003,
          28.650000000000034,
          25.840000000000032,
          25.25,
          24.980000000000018,
          24.900000000000034,
          26.610000000000014,
          29.79000000000002,
          30.49000000000001,
          28.910000000000025,
          26.33000000000004,
          25.28000000000003,
          25.060000000000002,
          23.939999999999998,
          25.879999999999995,
          29.310000000000002,
          30.689999999999998,
          27.75,
          25.57000000000005,
          24.510000000000048,
          23.910000000000025,
          23.360000000000014,
          25.210000000000036,
          29.100000000000023,
          31.05000000000001,
          28,
          26.720000000000027,
          25.900000000000034,
          24.29000000000002,
          22.960000000000036,
          25.170000000000016,
          29.180000000000007,
          31.27000000000004,
          28.890000000000043,
          27.189999999999998,
          25.760000000000048,
          24.79000000000002
         ],
         "yaxis": "y"
        },
        {
         "fillpattern": {
          "shape": ""
         },
         "hovertemplate": "variable=Temperature<br>x=%{x}<br>value=%{y}<extra></extra>",
         "legendgroup": "Temperature",
         "line": {
          "color": "#EF553B"
         },
         "marker": {
          "symbol": "circle"
         },
         "mode": "lines",
         "name": "Temperature",
         "orientation": "v",
         "showlegend": true,
         "stackgroup": "1",
         "type": "scatter",
         "x": [
          0,
          3,
          6,
          9,
          12,
          15,
          18,
          21,
          24,
          27,
          30,
          33,
          36,
          39,
          42,
          45,
          48,
          51,
          54,
          57,
          60,
          63,
          66,
          69,
          72,
          75,
          78,
          81,
          84,
          87,
          90,
          93,
          96,
          99,
          102,
          105,
          108,
          111,
          114,
          117
         ],
         "xaxis": "x",
         "y": [
          23.680000000000007,
          24.590000000000032,
          27.29000000000002,
          31.03000000000003,
          28.650000000000034,
          25.840000000000032,
          25.25,
          24.980000000000018,
          24.900000000000034,
          26.610000000000014,
          29.79000000000002,
          30.49000000000001,
          28.910000000000025,
          26.33000000000004,
          25.28000000000003,
          25.060000000000002,
          23.939999999999998,
          25.879999999999995,
          29.310000000000002,
          30.689999999999998,
          27.75,
          25.57000000000005,
          24.510000000000048,
          23.910000000000025,
          23.360000000000014,
          25.210000000000036,
          29.100000000000023,
          31.05000000000001,
          28,
          26.720000000000027,
          25.900000000000034,
          24.29000000000002,
          22.960000000000036,
          25.170000000000016,
          29.180000000000007,
          31.27000000000004,
          28.890000000000043,
          27.189999999999998,
          25.760000000000048,
          24.79000000000002
         ],
         "yaxis": "y"
        },
        {
         "fillpattern": {
          "shape": ""
         },
         "hovertemplate": "variable=Maximum Temperature<br>x=%{x}<br>value=%{y}<extra></extra>",
         "legendgroup": "Maximum Temperature",
         "line": {
          "color": "#00cc96"
         },
         "marker": {
          "symbol": "circle"
         },
         "mode": "lines",
         "name": "Maximum Temperature",
         "orientation": "v",
         "showlegend": true,
         "stackgroup": "1",
         "type": "scatter",
         "x": [
          0,
          3,
          6,
          9,
          12,
          15,
          18,
          21,
          24,
          27,
          30,
          33,
          36,
          39,
          42,
          45,
          48,
          51,
          54,
          57,
          60,
          63,
          66,
          69,
          72,
          75,
          78,
          81,
          84,
          87,
          90,
          93,
          96,
          99,
          102,
          105,
          108,
          111,
          114,
          117
         ],
         "xaxis": "x",
         "y": [
          24.75,
          26.400000000000034,
          29.090000000000032,
          31.03000000000003,
          28.650000000000034,
          25.840000000000032,
          25.25,
          24.980000000000018,
          24.900000000000034,
          26.610000000000014,
          29.79000000000002,
          30.49000000000001,
          28.910000000000025,
          26.33000000000004,
          25.28000000000003,
          25.060000000000002,
          23.939999999999998,
          25.879999999999995,
          29.310000000000002,
          30.689999999999998,
          27.75,
          25.57000000000005,
          24.510000000000048,
          23.910000000000025,
          23.360000000000014,
          25.210000000000036,
          29.100000000000023,
          31.05000000000001,
          28,
          26.720000000000027,
          25.900000000000034,
          24.29000000000002,
          22.960000000000036,
          25.170000000000016,
          29.180000000000007,
          31.27000000000004,
          28.890000000000043,
          27.189999999999998,
          25.760000000000048,
          24.79000000000002
         ],
         "yaxis": "y"
        }
       ],
       "layout": {
        "legend": {
         "title": {
          "text": "variable"
         },
         "tracegroupgap": 0
        },
        "margin": {
         "t": 60
        },
        "template": {
         "data": {
          "bar": [
           {
            "error_x": {
             "color": "#2a3f5f"
            },
            "error_y": {
             "color": "#2a3f5f"
            },
            "marker": {
             "line": {
              "color": "#E5ECF6",
              "width": 0.5
             },
             "pattern": {
              "fillmode": "overlay",
              "size": 10,
              "solidity": 0.2
             }
            },
            "type": "bar"
           }
          ],
          "barpolar": [
           {
            "marker": {
             "line": {
              "color": "#E5ECF6",
              "width": 0.5
             },
             "pattern": {
              "fillmode": "overlay",
              "size": 10,
              "solidity": 0.2
             }
            },
            "type": "barpolar"
           }
          ],
          "carpet": [
           {
            "aaxis": {
             "endlinecolor": "#2a3f5f",
             "gridcolor": "white",
             "linecolor": "white",
             "minorgridcolor": "white",
             "startlinecolor": "#2a3f5f"
            },
            "baxis": {
             "endlinecolor": "#2a3f5f",
             "gridcolor": "white",
             "linecolor": "white",
             "minorgridcolor": "white",
             "startlinecolor": "#2a3f5f"
            },
            "type": "carpet"
           }
          ],
          "choropleth": [
           {
            "colorbar": {
             "outlinewidth": 0,
             "ticks": ""
            },
            "type": "choropleth"
           }
          ],
          "contour": [
           {
            "colorbar": {
             "outlinewidth": 0,
             "ticks": ""
            },
            "colorscale": [
             [
              0,
              "#0d0887"
             ],
             [
              0.1111111111111111,
              "#46039f"
             ],
             [
              0.2222222222222222,
              "#7201a8"
             ],
             [
              0.3333333333333333,
              "#9c179e"
             ],
             [
              0.4444444444444444,
              "#bd3786"
             ],
             [
              0.5555555555555556,
              "#d8576b"
             ],
             [
              0.6666666666666666,
              "#ed7953"
             ],
             [
              0.7777777777777778,
              "#fb9f3a"
             ],
             [
              0.8888888888888888,
              "#fdca26"
             ],
             [
              1,
              "#f0f921"
             ]
            ],
            "type": "contour"
           }
          ],
          "contourcarpet": [
           {
            "colorbar": {
             "outlinewidth": 0,
             "ticks": ""
            },
            "type": "contourcarpet"
           }
          ],
          "heatmap": [
           {
            "colorbar": {
             "outlinewidth": 0,
             "ticks": ""
            },
            "colorscale": [
             [
              0,
              "#0d0887"
             ],
             [
              0.1111111111111111,
              "#46039f"
             ],
             [
              0.2222222222222222,
              "#7201a8"
             ],
             [
              0.3333333333333333,
              "#9c179e"
             ],
             [
              0.4444444444444444,
              "#bd3786"
             ],
             [
              0.5555555555555556,
              "#d8576b"
             ],
             [
              0.6666666666666666,
              "#ed7953"
             ],
             [
              0.7777777777777778,
              "#fb9f3a"
             ],
             [
              0.8888888888888888,
              "#fdca26"
             ],
             [
              1,
              "#f0f921"
             ]
            ],
            "type": "heatmap"
           }
          ],
          "heatmapgl": [
           {
            "colorbar": {
             "outlinewidth": 0,
             "ticks": ""
            },
            "colorscale": [
             [
              0,
              "#0d0887"
             ],
             [
              0.1111111111111111,
              "#46039f"
             ],
             [
              0.2222222222222222,
              "#7201a8"
             ],
             [
              0.3333333333333333,
              "#9c179e"
             ],
             [
              0.4444444444444444,
              "#bd3786"
             ],
             [
              0.5555555555555556,
              "#d8576b"
             ],
             [
              0.6666666666666666,
              "#ed7953"
             ],
             [
              0.7777777777777778,
              "#fb9f3a"
             ],
             [
              0.8888888888888888,
              "#fdca26"
             ],
             [
              1,
              "#f0f921"
             ]
            ],
            "type": "heatmapgl"
           }
          ],
          "histogram": [
           {
            "marker": {
             "pattern": {
              "fillmode": "overlay",
              "size": 10,
              "solidity": 0.2
             }
            },
            "type": "histogram"
           }
          ],
          "histogram2d": [
           {
            "colorbar": {
             "outlinewidth": 0,
             "ticks": ""
            },
            "colorscale": [
             [
              0,
              "#0d0887"
             ],
             [
              0.1111111111111111,
              "#46039f"
             ],
             [
              0.2222222222222222,
              "#7201a8"
             ],
             [
              0.3333333333333333,
              "#9c179e"
             ],
             [
              0.4444444444444444,
              "#bd3786"
             ],
             [
              0.5555555555555556,
              "#d8576b"
             ],
             [
              0.6666666666666666,
              "#ed7953"
             ],
             [
              0.7777777777777778,
              "#fb9f3a"
             ],
             [
              0.8888888888888888,
              "#fdca26"
             ],
             [
              1,
              "#f0f921"
             ]
            ],
            "type": "histogram2d"
           }
          ],
          "histogram2dcontour": [
           {
            "colorbar": {
             "outlinewidth": 0,
             "ticks": ""
            },
            "colorscale": [
             [
              0,
              "#0d0887"
             ],
             [
              0.1111111111111111,
              "#46039f"
             ],
             [
              0.2222222222222222,
              "#7201a8"
             ],
             [
              0.3333333333333333,
              "#9c179e"
             ],
             [
              0.4444444444444444,
              "#bd3786"
             ],
             [
              0.5555555555555556,
              "#d8576b"
             ],
             [
              0.6666666666666666,
              "#ed7953"
             ],
             [
              0.7777777777777778,
              "#fb9f3a"
             ],
             [
              0.8888888888888888,
              "#fdca26"
             ],
             [
              1,
              "#f0f921"
             ]
            ],
            "type": "histogram2dcontour"
           }
          ],
          "mesh3d": [
           {
            "colorbar": {
             "outlinewidth": 0,
             "ticks": ""
            },
            "type": "mesh3d"
           }
          ],
          "parcoords": [
           {
            "line": {
             "colorbar": {
              "outlinewidth": 0,
              "ticks": ""
             }
            },
            "type": "parcoords"
           }
          ],
          "pie": [
           {
            "automargin": true,
            "type": "pie"
           }
          ],
          "scatter": [
           {
            "fillpattern": {
             "fillmode": "overlay",
             "size": 10,
             "solidity": 0.2
            },
            "type": "scatter"
           }
          ],
          "scatter3d": [
           {
            "line": {
             "colorbar": {
              "outlinewidth": 0,
              "ticks": ""
             }
            },
            "marker": {
             "colorbar": {
              "outlinewidth": 0,
              "ticks": ""
             }
            },
            "type": "scatter3d"
           }
          ],
          "scattercarpet": [
           {
            "marker": {
             "colorbar": {
              "outlinewidth": 0,
              "ticks": ""
             }
            },
            "type": "scattercarpet"
           }
          ],
          "scattergeo": [
           {
            "marker": {
             "colorbar": {
              "outlinewidth": 0,
              "ticks": ""
             }
            },
            "type": "scattergeo"
           }
          ],
          "scattergl": [
           {
            "marker": {
             "colorbar": {
              "outlinewidth": 0,
              "ticks": ""
             }
            },
            "type": "scattergl"
           }
          ],
          "scattermapbox": [
           {
            "marker": {
             "colorbar": {
              "outlinewidth": 0,
              "ticks": ""
             }
            },
            "type": "scattermapbox"
           }
          ],
          "scatterpolar": [
           {
            "marker": {
             "colorbar": {
              "outlinewidth": 0,
              "ticks": ""
             }
            },
            "type": "scatterpolar"
           }
          ],
          "scatterpolargl": [
           {
            "marker": {
             "colorbar": {
              "outlinewidth": 0,
              "ticks": ""
             }
            },
            "type": "scatterpolargl"
           }
          ],
          "scatterternary": [
           {
            "marker": {
             "colorbar": {
              "outlinewidth": 0,
              "ticks": ""
             }
            },
            "type": "scatterternary"
           }
          ],
          "surface": [
           {
            "colorbar": {
             "outlinewidth": 0,
             "ticks": ""
            },
            "colorscale": [
             [
              0,
              "#0d0887"
             ],
             [
              0.1111111111111111,
              "#46039f"
             ],
             [
              0.2222222222222222,
              "#7201a8"
             ],
             [
              0.3333333333333333,
              "#9c179e"
             ],
             [
              0.4444444444444444,
              "#bd3786"
             ],
             [
              0.5555555555555556,
              "#d8576b"
             ],
             [
              0.6666666666666666,
              "#ed7953"
             ],
             [
              0.7777777777777778,
              "#fb9f3a"
             ],
             [
              0.8888888888888888,
              "#fdca26"
             ],
             [
              1,
              "#f0f921"
             ]
            ],
            "type": "surface"
           }
          ],
          "table": [
           {
            "cells": {
             "fill": {
              "color": "#EBF0F8"
             },
             "line": {
              "color": "white"
             }
            },
            "header": {
             "fill": {
              "color": "#C8D4E3"
             },
             "line": {
              "color": "white"
             }
            },
            "type": "table"
           }
          ]
         },
         "layout": {
          "annotationdefaults": {
           "arrowcolor": "#2a3f5f",
           "arrowhead": 0,
           "arrowwidth": 1
          },
          "autotypenumbers": "strict",
          "coloraxis": {
           "colorbar": {
            "outlinewidth": 0,
            "ticks": ""
           }
          },
          "colorscale": {
           "diverging": [
            [
             0,
             "#8e0152"
            ],
            [
             0.1,
             "#c51b7d"
            ],
            [
             0.2,
             "#de77ae"
            ],
            [
             0.3,
             "#f1b6da"
            ],
            [
             0.4,
             "#fde0ef"
            ],
            [
             0.5,
             "#f7f7f7"
            ],
            [
             0.6,
             "#e6f5d0"
            ],
            [
             0.7,
             "#b8e186"
            ],
            [
             0.8,
             "#7fbc41"
            ],
            [
             0.9,
             "#4d9221"
            ],
            [
             1,
             "#276419"
            ]
           ],
           "sequential": [
            [
             0,
             "#0d0887"
            ],
            [
             0.1111111111111111,
             "#46039f"
            ],
            [
             0.2222222222222222,
             "#7201a8"
            ],
            [
             0.3333333333333333,
             "#9c179e"
            ],
            [
             0.4444444444444444,
             "#bd3786"
            ],
            [
             0.5555555555555556,
             "#d8576b"
            ],
            [
             0.6666666666666666,
             "#ed7953"
            ],
            [
             0.7777777777777778,
             "#fb9f3a"
            ],
            [
             0.8888888888888888,
             "#fdca26"
            ],
            [
             1,
             "#f0f921"
            ]
           ],
           "sequentialminus": [
            [
             0,
             "#0d0887"
            ],
            [
             0.1111111111111111,
             "#46039f"
            ],
            [
             0.2222222222222222,
             "#7201a8"
            ],
            [
             0.3333333333333333,
             "#9c179e"
            ],
            [
             0.4444444444444444,
             "#bd3786"
            ],
            [
             0.5555555555555556,
             "#d8576b"
            ],
            [
             0.6666666666666666,
             "#ed7953"
            ],
            [
             0.7777777777777778,
             "#fb9f3a"
            ],
            [
             0.8888888888888888,
             "#fdca26"
            ],
            [
             1,
             "#f0f921"
            ]
           ]
          },
          "colorway": [
           "#636efa",
           "#EF553B",
           "#00cc96",
           "#ab63fa",
           "#FFA15A",
           "#19d3f3",
           "#FF6692",
           "#B6E880",
           "#FF97FF",
           "#FECB52"
          ],
          "font": {
           "color": "#2a3f5f"
          },
          "geo": {
           "bgcolor": "white",
           "lakecolor": "white",
           "landcolor": "#E5ECF6",
           "showlakes": true,
           "showland": true,
           "subunitcolor": "white"
          },
          "hoverlabel": {
           "align": "left"
          },
          "hovermode": "closest",
          "mapbox": {
           "style": "light"
          },
          "paper_bgcolor": "white",
          "plot_bgcolor": "#E5ECF6",
          "polar": {
           "angularaxis": {
            "gridcolor": "white",
            "linecolor": "white",
            "ticks": ""
           },
           "bgcolor": "#E5ECF6",
           "radialaxis": {
            "gridcolor": "white",
            "linecolor": "white",
            "ticks": ""
           }
          },
          "scene": {
           "xaxis": {
            "backgroundcolor": "#E5ECF6",
            "gridcolor": "white",
            "gridwidth": 2,
            "linecolor": "white",
            "showbackground": true,
            "ticks": "",
            "zerolinecolor": "white"
           },
           "yaxis": {
            "backgroundcolor": "#E5ECF6",
            "gridcolor": "white",
            "gridwidth": 2,
            "linecolor": "white",
            "showbackground": true,
            "ticks": "",
            "zerolinecolor": "white"
           },
           "zaxis": {
            "backgroundcolor": "#E5ECF6",
            "gridcolor": "white",
            "gridwidth": 2,
            "linecolor": "white",
            "showbackground": true,
            "ticks": "",
            "zerolinecolor": "white"
           }
          },
          "shapedefaults": {
           "line": {
            "color": "#2a3f5f"
           }
          },
          "ternary": {
           "aaxis": {
            "gridcolor": "white",
            "linecolor": "white",
            "ticks": ""
           },
           "baxis": {
            "gridcolor": "white",
            "linecolor": "white",
            "ticks": ""
           },
           "bgcolor": "#E5ECF6",
           "caxis": {
            "gridcolor": "white",
            "linecolor": "white",
            "ticks": ""
           }
          },
          "title": {
           "x": 0.05
          },
          "xaxis": {
           "automargin": true,
           "gridcolor": "white",
           "linecolor": "white",
           "ticks": "",
           "title": {
            "standoff": 15
           },
           "zerolinecolor": "white",
           "zerolinewidth": 2
          },
          "yaxis": {
           "automargin": true,
           "gridcolor": "white",
           "linecolor": "white",
           "ticks": "",
           "title": {
            "standoff": 15
           },
           "zerolinecolor": "white",
           "zerolinewidth": 2
          }
         }
        },
        "xaxis": {
         "anchor": "y",
         "domain": [
          0,
          1
         ],
         "title": {
          "text": "x"
         }
        },
        "yaxis": {
         "anchor": "x",
         "domain": [
          0,
          1
         ],
         "title": {
          "text": "value"
         }
        }
       }
      },
      "text/html": [
       "<div>                            <div id=\"daddf3dc-e821-4290-b87a-2310cd553392\" class=\"plotly-graph-div\" style=\"height:525px; width:100%;\"></div>            <script type=\"text/javascript\">                require([\"plotly\"], function(Plotly) {                    window.PLOTLYENV=window.PLOTLYENV || {};                                    if (document.getElementById(\"daddf3dc-e821-4290-b87a-2310cd553392\")) {                    Plotly.newPlot(                        \"daddf3dc-e821-4290-b87a-2310cd553392\",                        [{\"fillpattern\":{\"shape\":\"\"},\"hovertemplate\":\"variable=Minimum Temperature<br>x=%{x}<br>value=%{y}<extra></extra>\",\"legendgroup\":\"Minimum Temperature\",\"line\":{\"color\":\"#636efa\"},\"marker\":{\"symbol\":\"circle\"},\"mode\":\"lines\",\"name\":\"Minimum Temperature\",\"orientation\":\"v\",\"showlegend\":true,\"stackgroup\":\"1\",\"x\":[0,3,6,9,12,15,18,21,24,27,30,33,36,39,42,45,48,51,54,57,60,63,66,69,72,75,78,81,84,87,90,93,96,99,102,105,108,111,114,117],\"xaxis\":\"x\",\"y\":[23.680000000000007,24.590000000000032,27.29000000000002,31.03000000000003,28.650000000000034,25.840000000000032,25.25,24.980000000000018,24.900000000000034,26.610000000000014,29.79000000000002,30.49000000000001,28.910000000000025,26.33000000000004,25.28000000000003,25.060000000000002,23.939999999999998,25.879999999999995,29.310000000000002,30.689999999999998,27.75,25.57000000000005,24.510000000000048,23.910000000000025,23.360000000000014,25.210000000000036,29.100000000000023,31.05000000000001,28.0,26.720000000000027,25.900000000000034,24.29000000000002,22.960000000000036,25.170000000000016,29.180000000000007,31.27000000000004,28.890000000000043,27.189999999999998,25.760000000000048,24.79000000000002],\"yaxis\":\"y\",\"type\":\"scatter\"},{\"fillpattern\":{\"shape\":\"\"},\"hovertemplate\":\"variable=Temperature<br>x=%{x}<br>value=%{y}<extra></extra>\",\"legendgroup\":\"Temperature\",\"line\":{\"color\":\"#EF553B\"},\"marker\":{\"symbol\":\"circle\"},\"mode\":\"lines\",\"name\":\"Temperature\",\"orientation\":\"v\",\"showlegend\":true,\"stackgroup\":\"1\",\"x\":[0,3,6,9,12,15,18,21,24,27,30,33,36,39,42,45,48,51,54,57,60,63,66,69,72,75,78,81,84,87,90,93,96,99,102,105,108,111,114,117],\"xaxis\":\"x\",\"y\":[23.680000000000007,24.590000000000032,27.29000000000002,31.03000000000003,28.650000000000034,25.840000000000032,25.25,24.980000000000018,24.900000000000034,26.610000000000014,29.79000000000002,30.49000000000001,28.910000000000025,26.33000000000004,25.28000000000003,25.060000000000002,23.939999999999998,25.879999999999995,29.310000000000002,30.689999999999998,27.75,25.57000000000005,24.510000000000048,23.910000000000025,23.360000000000014,25.210000000000036,29.100000000000023,31.05000000000001,28.0,26.720000000000027,25.900000000000034,24.29000000000002,22.960000000000036,25.170000000000016,29.180000000000007,31.27000000000004,28.890000000000043,27.189999999999998,25.760000000000048,24.79000000000002],\"yaxis\":\"y\",\"type\":\"scatter\"},{\"fillpattern\":{\"shape\":\"\"},\"hovertemplate\":\"variable=Maximum Temperature<br>x=%{x}<br>value=%{y}<extra></extra>\",\"legendgroup\":\"Maximum Temperature\",\"line\":{\"color\":\"#00cc96\"},\"marker\":{\"symbol\":\"circle\"},\"mode\":\"lines\",\"name\":\"Maximum Temperature\",\"orientation\":\"v\",\"showlegend\":true,\"stackgroup\":\"1\",\"x\":[0,3,6,9,12,15,18,21,24,27,30,33,36,39,42,45,48,51,54,57,60,63,66,69,72,75,78,81,84,87,90,93,96,99,102,105,108,111,114,117],\"xaxis\":\"x\",\"y\":[24.75,26.400000000000034,29.090000000000032,31.03000000000003,28.650000000000034,25.840000000000032,25.25,24.980000000000018,24.900000000000034,26.610000000000014,29.79000000000002,30.49000000000001,28.910000000000025,26.33000000000004,25.28000000000003,25.060000000000002,23.939999999999998,25.879999999999995,29.310000000000002,30.689999999999998,27.75,25.57000000000005,24.510000000000048,23.910000000000025,23.360000000000014,25.210000000000036,29.100000000000023,31.05000000000001,28.0,26.720000000000027,25.900000000000034,24.29000000000002,22.960000000000036,25.170000000000016,29.180000000000007,31.27000000000004,28.890000000000043,27.189999999999998,25.760000000000048,24.79000000000002],\"yaxis\":\"y\",\"type\":\"scatter\"}],                        {\"template\":{\"data\":{\"histogram2dcontour\":[{\"type\":\"histogram2dcontour\",\"colorbar\":{\"outlinewidth\":0,\"ticks\":\"\"},\"colorscale\":[[0.0,\"#0d0887\"],[0.1111111111111111,\"#46039f\"],[0.2222222222222222,\"#7201a8\"],[0.3333333333333333,\"#9c179e\"],[0.4444444444444444,\"#bd3786\"],[0.5555555555555556,\"#d8576b\"],[0.6666666666666666,\"#ed7953\"],[0.7777777777777778,\"#fb9f3a\"],[0.8888888888888888,\"#fdca26\"],[1.0,\"#f0f921\"]]}],\"choropleth\":[{\"type\":\"choropleth\",\"colorbar\":{\"outlinewidth\":0,\"ticks\":\"\"}}],\"histogram2d\":[{\"type\":\"histogram2d\",\"colorbar\":{\"outlinewidth\":0,\"ticks\":\"\"},\"colorscale\":[[0.0,\"#0d0887\"],[0.1111111111111111,\"#46039f\"],[0.2222222222222222,\"#7201a8\"],[0.3333333333333333,\"#9c179e\"],[0.4444444444444444,\"#bd3786\"],[0.5555555555555556,\"#d8576b\"],[0.6666666666666666,\"#ed7953\"],[0.7777777777777778,\"#fb9f3a\"],[0.8888888888888888,\"#fdca26\"],[1.0,\"#f0f921\"]]}],\"heatmap\":[{\"type\":\"heatmap\",\"colorbar\":{\"outlinewidth\":0,\"ticks\":\"\"},\"colorscale\":[[0.0,\"#0d0887\"],[0.1111111111111111,\"#46039f\"],[0.2222222222222222,\"#7201a8\"],[0.3333333333333333,\"#9c179e\"],[0.4444444444444444,\"#bd3786\"],[0.5555555555555556,\"#d8576b\"],[0.6666666666666666,\"#ed7953\"],[0.7777777777777778,\"#fb9f3a\"],[0.8888888888888888,\"#fdca26\"],[1.0,\"#f0f921\"]]}],\"heatmapgl\":[{\"type\":\"heatmapgl\",\"colorbar\":{\"outlinewidth\":0,\"ticks\":\"\"},\"colorscale\":[[0.0,\"#0d0887\"],[0.1111111111111111,\"#46039f\"],[0.2222222222222222,\"#7201a8\"],[0.3333333333333333,\"#9c179e\"],[0.4444444444444444,\"#bd3786\"],[0.5555555555555556,\"#d8576b\"],[0.6666666666666666,\"#ed7953\"],[0.7777777777777778,\"#fb9f3a\"],[0.8888888888888888,\"#fdca26\"],[1.0,\"#f0f921\"]]}],\"contourcarpet\":[{\"type\":\"contourcarpet\",\"colorbar\":{\"outlinewidth\":0,\"ticks\":\"\"}}],\"contour\":[{\"type\":\"contour\",\"colorbar\":{\"outlinewidth\":0,\"ticks\":\"\"},\"colorscale\":[[0.0,\"#0d0887\"],[0.1111111111111111,\"#46039f\"],[0.2222222222222222,\"#7201a8\"],[0.3333333333333333,\"#9c179e\"],[0.4444444444444444,\"#bd3786\"],[0.5555555555555556,\"#d8576b\"],[0.6666666666666666,\"#ed7953\"],[0.7777777777777778,\"#fb9f3a\"],[0.8888888888888888,\"#fdca26\"],[1.0,\"#f0f921\"]]}],\"surface\":[{\"type\":\"surface\",\"colorbar\":{\"outlinewidth\":0,\"ticks\":\"\"},\"colorscale\":[[0.0,\"#0d0887\"],[0.1111111111111111,\"#46039f\"],[0.2222222222222222,\"#7201a8\"],[0.3333333333333333,\"#9c179e\"],[0.4444444444444444,\"#bd3786\"],[0.5555555555555556,\"#d8576b\"],[0.6666666666666666,\"#ed7953\"],[0.7777777777777778,\"#fb9f3a\"],[0.8888888888888888,\"#fdca26\"],[1.0,\"#f0f921\"]]}],\"mesh3d\":[{\"type\":\"mesh3d\",\"colorbar\":{\"outlinewidth\":0,\"ticks\":\"\"}}],\"scatter\":[{\"fillpattern\":{\"fillmode\":\"overlay\",\"size\":10,\"solidity\":0.2},\"type\":\"scatter\"}],\"parcoords\":[{\"type\":\"parcoords\",\"line\":{\"colorbar\":{\"outlinewidth\":0,\"ticks\":\"\"}}}],\"scatterpolargl\":[{\"type\":\"scatterpolargl\",\"marker\":{\"colorbar\":{\"outlinewidth\":0,\"ticks\":\"\"}}}],\"bar\":[{\"error_x\":{\"color\":\"#2a3f5f\"},\"error_y\":{\"color\":\"#2a3f5f\"},\"marker\":{\"line\":{\"color\":\"#E5ECF6\",\"width\":0.5},\"pattern\":{\"fillmode\":\"overlay\",\"size\":10,\"solidity\":0.2}},\"type\":\"bar\"}],\"scattergeo\":[{\"type\":\"scattergeo\",\"marker\":{\"colorbar\":{\"outlinewidth\":0,\"ticks\":\"\"}}}],\"scatterpolar\":[{\"type\":\"scatterpolar\",\"marker\":{\"colorbar\":{\"outlinewidth\":0,\"ticks\":\"\"}}}],\"histogram\":[{\"marker\":{\"pattern\":{\"fillmode\":\"overlay\",\"size\":10,\"solidity\":0.2}},\"type\":\"histogram\"}],\"scattergl\":[{\"type\":\"scattergl\",\"marker\":{\"colorbar\":{\"outlinewidth\":0,\"ticks\":\"\"}}}],\"scatter3d\":[{\"type\":\"scatter3d\",\"line\":{\"colorbar\":{\"outlinewidth\":0,\"ticks\":\"\"}},\"marker\":{\"colorbar\":{\"outlinewidth\":0,\"ticks\":\"\"}}}],\"scattermapbox\":[{\"type\":\"scattermapbox\",\"marker\":{\"colorbar\":{\"outlinewidth\":0,\"ticks\":\"\"}}}],\"scatterternary\":[{\"type\":\"scatterternary\",\"marker\":{\"colorbar\":{\"outlinewidth\":0,\"ticks\":\"\"}}}],\"scattercarpet\":[{\"type\":\"scattercarpet\",\"marker\":{\"colorbar\":{\"outlinewidth\":0,\"ticks\":\"\"}}}],\"carpet\":[{\"aaxis\":{\"endlinecolor\":\"#2a3f5f\",\"gridcolor\":\"white\",\"linecolor\":\"white\",\"minorgridcolor\":\"white\",\"startlinecolor\":\"#2a3f5f\"},\"baxis\":{\"endlinecolor\":\"#2a3f5f\",\"gridcolor\":\"white\",\"linecolor\":\"white\",\"minorgridcolor\":\"white\",\"startlinecolor\":\"#2a3f5f\"},\"type\":\"carpet\"}],\"table\":[{\"cells\":{\"fill\":{\"color\":\"#EBF0F8\"},\"line\":{\"color\":\"white\"}},\"header\":{\"fill\":{\"color\":\"#C8D4E3\"},\"line\":{\"color\":\"white\"}},\"type\":\"table\"}],\"barpolar\":[{\"marker\":{\"line\":{\"color\":\"#E5ECF6\",\"width\":0.5},\"pattern\":{\"fillmode\":\"overlay\",\"size\":10,\"solidity\":0.2}},\"type\":\"barpolar\"}],\"pie\":[{\"automargin\":true,\"type\":\"pie\"}]},\"layout\":{\"autotypenumbers\":\"strict\",\"colorway\":[\"#636efa\",\"#EF553B\",\"#00cc96\",\"#ab63fa\",\"#FFA15A\",\"#19d3f3\",\"#FF6692\",\"#B6E880\",\"#FF97FF\",\"#FECB52\"],\"font\":{\"color\":\"#2a3f5f\"},\"hovermode\":\"closest\",\"hoverlabel\":{\"align\":\"left\"},\"paper_bgcolor\":\"white\",\"plot_bgcolor\":\"#E5ECF6\",\"polar\":{\"bgcolor\":\"#E5ECF6\",\"angularaxis\":{\"gridcolor\":\"white\",\"linecolor\":\"white\",\"ticks\":\"\"},\"radialaxis\":{\"gridcolor\":\"white\",\"linecolor\":\"white\",\"ticks\":\"\"}},\"ternary\":{\"bgcolor\":\"#E5ECF6\",\"aaxis\":{\"gridcolor\":\"white\",\"linecolor\":\"white\",\"ticks\":\"\"},\"baxis\":{\"gridcolor\":\"white\",\"linecolor\":\"white\",\"ticks\":\"\"},\"caxis\":{\"gridcolor\":\"white\",\"linecolor\":\"white\",\"ticks\":\"\"}},\"coloraxis\":{\"colorbar\":{\"outlinewidth\":0,\"ticks\":\"\"}},\"colorscale\":{\"sequential\":[[0.0,\"#0d0887\"],[0.1111111111111111,\"#46039f\"],[0.2222222222222222,\"#7201a8\"],[0.3333333333333333,\"#9c179e\"],[0.4444444444444444,\"#bd3786\"],[0.5555555555555556,\"#d8576b\"],[0.6666666666666666,\"#ed7953\"],[0.7777777777777778,\"#fb9f3a\"],[0.8888888888888888,\"#fdca26\"],[1.0,\"#f0f921\"]],\"sequentialminus\":[[0.0,\"#0d0887\"],[0.1111111111111111,\"#46039f\"],[0.2222222222222222,\"#7201a8\"],[0.3333333333333333,\"#9c179e\"],[0.4444444444444444,\"#bd3786\"],[0.5555555555555556,\"#d8576b\"],[0.6666666666666666,\"#ed7953\"],[0.7777777777777778,\"#fb9f3a\"],[0.8888888888888888,\"#fdca26\"],[1.0,\"#f0f921\"]],\"diverging\":[[0,\"#8e0152\"],[0.1,\"#c51b7d\"],[0.2,\"#de77ae\"],[0.3,\"#f1b6da\"],[0.4,\"#fde0ef\"],[0.5,\"#f7f7f7\"],[0.6,\"#e6f5d0\"],[0.7,\"#b8e186\"],[0.8,\"#7fbc41\"],[0.9,\"#4d9221\"],[1,\"#276419\"]]},\"xaxis\":{\"gridcolor\":\"white\",\"linecolor\":\"white\",\"ticks\":\"\",\"title\":{\"standoff\":15},\"zerolinecolor\":\"white\",\"automargin\":true,\"zerolinewidth\":2},\"yaxis\":{\"gridcolor\":\"white\",\"linecolor\":\"white\",\"ticks\":\"\",\"title\":{\"standoff\":15},\"zerolinecolor\":\"white\",\"automargin\":true,\"zerolinewidth\":2},\"scene\":{\"xaxis\":{\"backgroundcolor\":\"#E5ECF6\",\"gridcolor\":\"white\",\"linecolor\":\"white\",\"showbackground\":true,\"ticks\":\"\",\"zerolinecolor\":\"white\",\"gridwidth\":2},\"yaxis\":{\"backgroundcolor\":\"#E5ECF6\",\"gridcolor\":\"white\",\"linecolor\":\"white\",\"showbackground\":true,\"ticks\":\"\",\"zerolinecolor\":\"white\",\"gridwidth\":2},\"zaxis\":{\"backgroundcolor\":\"#E5ECF6\",\"gridcolor\":\"white\",\"linecolor\":\"white\",\"showbackground\":true,\"ticks\":\"\",\"zerolinecolor\":\"white\",\"gridwidth\":2}},\"shapedefaults\":{\"line\":{\"color\":\"#2a3f5f\"}},\"annotationdefaults\":{\"arrowcolor\":\"#2a3f5f\",\"arrowhead\":0,\"arrowwidth\":1},\"geo\":{\"bgcolor\":\"white\",\"landcolor\":\"#E5ECF6\",\"subunitcolor\":\"white\",\"showland\":true,\"showlakes\":true,\"lakecolor\":\"white\"},\"title\":{\"x\":0.05},\"mapbox\":{\"style\":\"light\"}}},\"xaxis\":{\"anchor\":\"y\",\"domain\":[0.0,1.0],\"title\":{\"text\":\"x\"}},\"yaxis\":{\"anchor\":\"x\",\"domain\":[0.0,1.0],\"title\":{\"text\":\"value\"}},\"legend\":{\"title\":{\"text\":\"variable\"},\"tracegroupgap\":0},\"margin\":{\"t\":60}},                        {\"responsive\": true}                    ).then(function(){\n",
       "                            \n",
       "var gd = document.getElementById('daddf3dc-e821-4290-b87a-2310cd553392');\n",
       "var x = new MutationObserver(function (mutations, observer) {{\n",
       "        var display = window.getComputedStyle(gd).display;\n",
       "        if (!display || display === 'none') {{\n",
       "            console.log([gd, 'removed!']);\n",
       "            Plotly.purge(gd);\n",
       "            observer.disconnect();\n",
       "        }}\n",
       "}});\n",
       "\n",
       "// Listen for the removal of the full notebook cells\n",
       "var notebookContainer = gd.closest('#notebook-container');\n",
       "if (notebookContainer) {{\n",
       "    x.observe(notebookContainer, {childList: true});\n",
       "}}\n",
       "\n",
       "// Listen for the clearing of the current output cell\n",
       "var outputEl = gd.closest('.output');\n",
       "if (outputEl) {{\n",
       "    x.observe(outputEl, {childList: true});\n",
       "}}\n",
       "\n",
       "                        })                };                });            </script>        </div>"
      ]
     },
     "metadata": {},
     "output_type": "display_data"
    }
   ],
   "source": [
    "fig = px.area(df, x=date_times, y=plot_cols)\n",
    "fig.show()"
   ]
  },
  {
   "cell_type": "code",
   "execution_count": 127,
   "id": "ac2f0e46",
   "metadata": {},
   "outputs": [],
   "source": [
    "# Converting temparature units from kelvin to celcius\n",
    "\n",
    "dataframe['Temparature'] = dataframe['Temparature'] - 273.15\n",
    "dataframe['Minimum Temparature'] = dataframe['Minimum Temparature'] -273.15\n",
    "dataframe['Maximum Temparature'] = dataframe['Maximum Temparature'] -273.15"
   ]
  },
  {
   "cell_type": "markdown",
   "id": "a2f3ed76",
   "metadata": {},
   "source": [
    "# Modeling"
   ]
  },
  {
   "cell_type": "code",
   "execution_count": 220,
   "id": "42d7957a",
   "metadata": {},
   "outputs": [
    {
     "name": "stdout",
     "output_type": "stream",
     "text": [
      "TensorFlow Version: 2.12.0\n"
     ]
    }
   ],
   "source": [
    "print(\"TensorFlow Version:\", tf.__version__)\n"
   ]
  },
  {
   "cell_type": "code",
   "execution_count": 104,
   "id": "ac10904b",
   "metadata": {},
   "outputs": [
    {
     "name": "stdout",
     "output_type": "stream",
     "text": [
      "<class 'pandas.core.frame.DataFrame'>\n",
      "RangeIndex: 40 entries, 0 to 39\n",
      "Data columns (total 3 columns):\n",
      " #   Column               Non-Null Count  Dtype  \n",
      "---  ------               --------------  -----  \n",
      " 0   Minimum Temperature  40 non-null     float64\n",
      " 1   Temperature          40 non-null     float64\n",
      " 2   Maximum Temperature  40 non-null     float64\n",
      "dtypes: float64(3)\n",
      "memory usage: 1.1 KB\n"
     ]
    }
   ],
   "source": [
    "df.info()"
   ]
  },
  {
   "cell_type": "code",
   "execution_count": 108,
   "id": "0b8e3913",
   "metadata": {},
   "outputs": [
    {
     "name": "stdout",
     "output_type": "stream",
     "text": [
      "Mean Absolute Error (MAE): 3.8613\n"
     ]
    }
   ],
   "source": [
    "mae = np.mean(np.abs(predictions - y_test))\n",
    "print(f\"Mean Absolute Error (MAE): {mae:.4f}\")"
   ]
  },
  {
   "cell_type": "code",
   "execution_count": 115,
   "id": "2527f61c",
   "metadata": {
    "scrolled": true
   },
   "outputs": [
    {
     "name": "stdout",
     "output_type": "stream",
     "text": [
      "Epoch 1/100\n",
      "5/5 [==============================] - 2s 9ms/step - loss: 717.9166\n",
      "Epoch 2/100\n",
      "5/5 [==============================] - 0s 10ms/step - loss: 708.5101\n",
      "Epoch 3/100\n",
      "5/5 [==============================] - 0s 8ms/step - loss: 699.3157\n",
      "Epoch 4/100\n",
      "5/5 [==============================] - 0s 7ms/step - loss: 689.1712\n",
      "Epoch 5/100\n",
      "5/5 [==============================] - 0s 8ms/step - loss: 678.6688\n",
      "Epoch 6/100\n",
      "5/5 [==============================] - 0s 6ms/step - loss: 665.8948\n",
      "Epoch 7/100\n",
      "5/5 [==============================] - 0s 8ms/step - loss: 651.1958\n",
      "Epoch 8/100\n",
      "5/5 [==============================] - 0s 7ms/step - loss: 633.5302\n",
      "Epoch 9/100\n",
      "5/5 [==============================] - 0s 5ms/step - loss: 613.6492\n",
      "Epoch 10/100\n",
      "5/5 [==============================] - 0s 6ms/step - loss: 589.2376\n",
      "Epoch 11/100\n",
      "5/5 [==============================] - 0s 5ms/step - loss: 562.6718\n",
      "Epoch 12/100\n",
      "5/5 [==============================] - 0s 5ms/step - loss: 531.3972\n",
      "Epoch 13/100\n",
      "5/5 [==============================] - 0s 6ms/step - loss: 497.8881\n",
      "Epoch 14/100\n",
      "5/5 [==============================] - 0s 7ms/step - loss: 460.8248\n",
      "Epoch 15/100\n",
      "5/5 [==============================] - 0s 5ms/step - loss: 420.6097\n",
      "Epoch 16/100\n",
      "5/5 [==============================] - 0s 5ms/step - loss: 377.9881\n",
      "Epoch 17/100\n",
      "5/5 [==============================] - 0s 5ms/step - loss: 333.2032\n",
      "Epoch 18/100\n",
      "5/5 [==============================] - 0s 5ms/step - loss: 290.0037\n",
      "Epoch 19/100\n",
      "5/5 [==============================] - 0s 6ms/step - loss: 245.5677\n",
      "Epoch 20/100\n",
      "5/5 [==============================] - 0s 6ms/step - loss: 204.5672\n",
      "Epoch 21/100\n",
      "5/5 [==============================] - 0s 6ms/step - loss: 166.4678\n",
      "Epoch 22/100\n",
      "5/5 [==============================] - 0s 8ms/step - loss: 133.8829\n",
      "Epoch 23/100\n",
      "5/5 [==============================] - 0s 6ms/step - loss: 105.7961\n",
      "Epoch 24/100\n",
      "5/5 [==============================] - 0s 5ms/step - loss: 85.0732\n",
      "Epoch 25/100\n",
      "5/5 [==============================] - 0s 7ms/step - loss: 70.7899\n",
      "Epoch 26/100\n",
      "5/5 [==============================] - 0s 6ms/step - loss: 61.8282\n",
      "Epoch 27/100\n",
      "5/5 [==============================] - 0s 5ms/step - loss: 55.2552\n",
      "Epoch 28/100\n",
      "5/5 [==============================] - 0s 8ms/step - loss: 54.1906\n",
      "Epoch 29/100\n",
      "5/5 [==============================] - 0s 6ms/step - loss: 52.6667\n",
      "Epoch 30/100\n",
      "5/5 [==============================] - 0s 5ms/step - loss: 51.9815\n",
      "Epoch 31/100\n",
      "5/5 [==============================] - 0s 7ms/step - loss: 51.2246\n",
      "Epoch 32/100\n",
      "5/5 [==============================] - 0s 8ms/step - loss: 50.5383\n",
      "Epoch 33/100\n",
      "5/5 [==============================] - 0s 6ms/step - loss: 49.5933\n",
      "Epoch 34/100\n",
      "5/5 [==============================] - 0s 6ms/step - loss: 48.8583\n",
      "Epoch 35/100\n",
      "5/5 [==============================] - 0s 8ms/step - loss: 47.9432\n",
      "Epoch 36/100\n",
      "5/5 [==============================] - 0s 5ms/step - loss: 47.4434\n",
      "Epoch 37/100\n",
      "5/5 [==============================] - 0s 6ms/step - loss: 46.3960\n",
      "Epoch 38/100\n",
      "5/5 [==============================] - 0s 6ms/step - loss: 45.7500\n",
      "Epoch 39/100\n",
      "5/5 [==============================] - 0s 8ms/step - loss: 44.9099\n",
      "Epoch 40/100\n",
      "5/5 [==============================] - 0s 6ms/step - loss: 44.2646\n",
      "Epoch 41/100\n",
      "5/5 [==============================] - 0s 6ms/step - loss: 43.5711\n",
      "Epoch 42/100\n",
      "5/5 [==============================] - 0s 8ms/step - loss: 42.8869\n",
      "Epoch 43/100\n",
      "5/5 [==============================] - 0s 7ms/step - loss: 42.3022\n",
      "Epoch 44/100\n",
      "5/5 [==============================] - 0s 5ms/step - loss: 41.5604\n",
      "Epoch 45/100\n",
      "5/5 [==============================] - 0s 6ms/step - loss: 40.7270\n",
      "Epoch 46/100\n",
      "5/5 [==============================] - 0s 6ms/step - loss: 40.1174\n",
      "Epoch 47/100\n",
      "5/5 [==============================] - 0s 7ms/step - loss: 39.4154\n",
      "Epoch 48/100\n",
      "5/5 [==============================] - 0s 6ms/step - loss: 38.7991\n",
      "Epoch 49/100\n",
      "5/5 [==============================] - 0s 8ms/step - loss: 38.1251\n",
      "Epoch 50/100\n",
      "5/5 [==============================] - 0s 6ms/step - loss: 37.4598\n",
      "Epoch 51/100\n",
      "5/5 [==============================] - 0s 5ms/step - loss: 36.8963\n",
      "Epoch 52/100\n",
      "5/5 [==============================] - 0s 6ms/step - loss: 36.2600\n",
      "Epoch 53/100\n",
      "5/5 [==============================] - 0s 6ms/step - loss: 35.6777\n",
      "Epoch 54/100\n",
      "5/5 [==============================] - 0s 7ms/step - loss: 34.9679\n",
      "Epoch 55/100\n",
      "5/5 [==============================] - 0s 6ms/step - loss: 34.3979\n",
      "Epoch 56/100\n",
      "5/5 [==============================] - 0s 8ms/step - loss: 33.8486\n",
      "Epoch 57/100\n",
      "5/5 [==============================] - 0s 6ms/step - loss: 33.1967\n",
      "Epoch 58/100\n",
      "5/5 [==============================] - 0s 5ms/step - loss: 32.7131\n",
      "Epoch 59/100\n",
      "5/5 [==============================] - 0s 7ms/step - loss: 32.0328\n",
      "Epoch 60/100\n",
      "5/5 [==============================] - 0s 7ms/step - loss: 31.5865\n",
      "Epoch 61/100\n",
      "5/5 [==============================] - 0s 6ms/step - loss: 31.0932\n",
      "Epoch 62/100\n",
      "5/5 [==============================] - 0s 5ms/step - loss: 30.3737\n",
      "Epoch 63/100\n",
      "5/5 [==============================] - 0s 9ms/step - loss: 29.8918\n",
      "Epoch 64/100\n",
      "5/5 [==============================] - 0s 5ms/step - loss: 29.3418\n",
      "Epoch 65/100\n",
      "5/5 [==============================] - 0s 6ms/step - loss: 28.8020\n",
      "Epoch 66/100\n",
      "5/5 [==============================] - 0s 6ms/step - loss: 28.2683\n",
      "Epoch 67/100\n",
      "5/5 [==============================] - 0s 6ms/step - loss: 28.1576\n",
      "Epoch 68/100\n",
      "5/5 [==============================] - 0s 6ms/step - loss: 27.2827\n",
      "Epoch 69/100\n",
      "5/5 [==============================] - 0s 16ms/step - loss: 26.8181\n",
      "Epoch 70/100\n",
      "5/5 [==============================] - 0s 6ms/step - loss: 26.3396\n",
      "Epoch 71/100\n",
      "5/5 [==============================] - 0s 6ms/step - loss: 25.8986\n",
      "Epoch 72/100\n",
      "5/5 [==============================] - 0s 26ms/step - loss: 25.3686\n",
      "Epoch 73/100\n",
      "5/5 [==============================] - 0s 5ms/step - loss: 24.8789\n",
      "Epoch 74/100\n",
      "5/5 [==============================] - 0s 7ms/step - loss: 24.4578\n",
      "Epoch 75/100\n",
      "5/5 [==============================] - 0s 35ms/step - loss: 24.0519\n",
      "Epoch 76/100\n",
      "5/5 [==============================] - 0s 6ms/step - loss: 23.4970\n",
      "Epoch 77/100\n",
      "5/5 [==============================] - 0s 6ms/step - loss: 23.0805\n",
      "Epoch 78/100\n",
      "5/5 [==============================] - 0s 23ms/step - loss: 22.8144\n",
      "Epoch 79/100\n",
      "5/5 [==============================] - 0s 6ms/step - loss: 22.2778\n",
      "Epoch 80/100\n",
      "5/5 [==============================] - 0s 10ms/step - loss: 21.8369\n",
      "Epoch 81/100\n",
      "5/5 [==============================] - 0s 29ms/step - loss: 21.3552\n",
      "Epoch 82/100\n",
      "5/5 [==============================] - 0s 16ms/step - loss: 21.0043\n",
      "Epoch 83/100\n",
      "5/5 [==============================] - 0s 5ms/step - loss: 20.6488\n",
      "Epoch 84/100\n",
      "5/5 [==============================] - 0s 7ms/step - loss: 20.2064\n",
      "Epoch 85/100\n",
      "5/5 [==============================] - 0s 5ms/step - loss: 19.9029\n",
      "Epoch 86/100\n",
      "5/5 [==============================] - 0s 6ms/step - loss: 19.4911\n",
      "Epoch 87/100\n",
      "5/5 [==============================] - 0s 6ms/step - loss: 19.0704\n",
      "Epoch 88/100\n",
      "5/5 [==============================] - 0s 6ms/step - loss: 18.7028\n",
      "Epoch 89/100\n",
      "5/5 [==============================] - 0s 6ms/step - loss: 18.3498\n",
      "Epoch 90/100\n",
      "5/5 [==============================] - 0s 6ms/step - loss: 18.0042\n",
      "Epoch 91/100\n",
      "5/5 [==============================] - 0s 6ms/step - loss: 17.7270\n",
      "Epoch 92/100\n",
      "5/5 [==============================] - 0s 6ms/step - loss: 17.3137\n",
      "Epoch 93/100\n",
      "5/5 [==============================] - 0s 6ms/step - loss: 17.0075\n",
      "Epoch 94/100\n",
      "5/5 [==============================] - 0s 6ms/step - loss: 16.6801\n",
      "Epoch 95/100\n",
      "5/5 [==============================] - 0s 6ms/step - loss: 16.3379\n",
      "Epoch 96/100\n",
      "5/5 [==============================] - 0s 5ms/step - loss: 16.0721\n",
      "Epoch 97/100\n",
      "5/5 [==============================] - 0s 7ms/step - loss: 15.7264\n",
      "Epoch 98/100\n",
      "5/5 [==============================] - 0s 6ms/step - loss: 15.4639\n",
      "Epoch 99/100\n",
      "5/5 [==============================] - 0s 5ms/step - loss: 15.1003\n",
      "Epoch 100/100\n",
      "5/5 [==============================] - 0s 8ms/step - loss: 14.8883\n",
      "1/1 [==============================] - 0s 220ms/step\n"
     ]
    },
    {
     "data": {
      "image/png": "[encoded data removed]",
      "text/plain": [
       "<Figure size 1000x600 with 1 Axes>"
      ]
     },
     "metadata": {},
     "output_type": "display_data"
    }
   ],
   "source": [
    "from sklearn.preprocessing import MinMaxScaler\n",
    "from tensorflow.keras.models import Sequential\n",
    "from tensorflow.keras.layers import Dense\n",
    "\n",
    "\n",
    "# Load your DataFrame\n",
    "# df = ...\n",
    "\n",
    "# Extract features and target variable\n",
    "\n",
    "date_times = np.array([x for x in range(0,24*5,3)])\n",
    "X = date_times.reshape(-1,1)\n",
    "y = df['Temperature'].values\n",
    "\n",
    "# Scale features to the range [0, 1]\n",
    "scaler = MinMaxScaler()\n",
    "X_scaled = scaler.fit_transform(X)\n",
    "\n",
    "# Build the neural network model\n",
    "model = Sequential()\n",
    "model.add(Dense(64, activation='relu', input_dim=1))\n",
    "model.add(Dense(128, activation='relu'))\n",
    "model.add(Dense(1))  # 1 output neuron for temperature prediction\n",
    "\n",
    "# Compile the model\n",
    "model.compile(optimizer='adam', loss='mean_squared_error')\n",
    "\n",
    "# Train the model on the entire dataset\n",
    "model.fit(X_scaled, y, epochs=100, batch_size=8, verbose=1)\n",
    "\n",
    "# Generate time points for 24 hours\n",
    "time_points = np.linspace(0, 24, num=24)  # 24 intervals for each hour\n",
    "time_points = time_points.reshape(-1, 1)\n",
    "\n",
    "# Scale the time points\n",
    "scaled_time_points = scaler.transform(time_points)\n",
    "\n",
    "# Predict temperature values at the time points\n",
    "predicted_temperatures = model.predict(scaled_time_points)\n",
    "\n",
    "# Inverse transform the predicted temperatures to get them back to the original scale\n",
    "\n",
    "\n",
    "# Plotting\n",
    "plt.figure(figsize=(10, 6))\n",
    "plt.plot(time_points, predicted_temperatures, label='Predicted Temperature')\n",
    "plt.xlabel('Time (hours)')\n",
    "plt.ylabel('Temperature')\n",
    "plt.title('Predicted Temperature from 0 to 24 Hours')\n",
    "plt.grid(True)\n",
    "plt.legend()\n",
    "plt.show()\n"
   ]
  },
  {
   "cell_type": "code",
   "execution_count": 120,
   "id": "ba07186c",
   "metadata": {},
   "outputs": [
    {
     "data": {
      "application/vnd.plotly.v1+json": {
       "config": {
        "plotlyServerURL": "https://plot.ly"
       },
       "data": [
        {
         "mode": "lines",
         "name": "Temperature",
         "type": "scatter",
         "x": [
          "2023-08-01T00:00:00",
          "2023-08-01T01:00:00",
          "2023-08-01T02:00:00",
          "2023-08-01T03:00:00"
         ],
         "xaxis": "x",
         "y": [
          25,
          26,
          24,
          23
         ],
         "yaxis": "y"
        },
        {
         "mode": "lines",
         "name": "Humidity",
         "type": "scatter",
         "x": [
          "2023-08-01T00:00:00",
          "2023-08-01T01:00:00",
          "2023-08-01T02:00:00",
          "2023-08-01T03:00:00"
         ],
         "xaxis": "x2",
         "y": [
          60,
          65,
          62,
          58
         ],
         "yaxis": "y2"
        },
        {
         "mode": "lines",
         "name": "Pressure",
         "type": "scatter",
         "x": [
          "2023-08-01T00:00:00",
          "2023-08-01T01:00:00",
          "2023-08-01T02:00:00",
          "2023-08-01T03:00:00"
         ],
         "xaxis": "x3",
         "y": [
          1010,
          1012,
          1008,
          1011
         ],
         "yaxis": "y3"
        }
       ],
       "layout": {
        "annotations": [
         {
          "font": {
           "size": 16
          },
          "showarrow": false,
          "text": "Temperature",
          "x": 0.5,
          "xanchor": "center",
          "xref": "paper",
          "y": 1,
          "yanchor": "bottom",
          "yref": "paper"
         },
         {
          "font": {
           "size": 16
          },
          "showarrow": false,
          "text": "Humidity",
          "x": 0.5,
          "xanchor": "center",
          "xref": "paper",
          "y": 0.6111111111111112,
          "yanchor": "bottom",
          "yref": "paper"
         },
         {
          "font": {
           "size": 16
          },
          "showarrow": false,
          "text": "Pressure",
          "x": 0.5,
          "xanchor": "center",
          "xref": "paper",
          "y": 0.22222222222222224,
          "yanchor": "bottom",
          "yref": "paper"
         }
        ],
        "template": {
         "data": {
          "bar": [
           {
            "error_x": {
             "color": "#2a3f5f"
            },
            "error_y": {
             "color": "#2a3f5f"
            },
            "marker": {
             "line": {
              "color": "#E5ECF6",
              "width": 0.5
             },
             "pattern": {
              "fillmode": "overlay",
              "size": 10,
              "solidity": 0.2
             }
            },
            "type": "bar"
           }
          ],
          "barpolar": [
           {
            "marker": {
             "line": {
              "color": "#E5ECF6",
              "width": 0.5
             },
             "pattern": {
              "fillmode": "overlay",
              "size": 10,
              "solidity": 0.2
             }
            },
            "type": "barpolar"
           }
          ],
          "carpet": [
           {
            "aaxis": {
             "endlinecolor": "#2a3f5f",
             "gridcolor": "white",
             "linecolor": "white",
             "minorgridcolor": "white",
             "startlinecolor": "#2a3f5f"
            },
            "baxis": {
             "endlinecolor": "#2a3f5f",
             "gridcolor": "white",
             "linecolor": "white",
             "minorgridcolor": "white",
             "startlinecolor": "#2a3f5f"
            },
            "type": "carpet"
           }
          ],
          "choropleth": [
           {
            "colorbar": {
             "outlinewidth": 0,
             "ticks": ""
            },
            "type": "choropleth"
           }
          ],
          "contour": [
           {
            "colorbar": {
             "outlinewidth": 0,
             "ticks": ""
            },
            "colorscale": [
             [
              0,
              "#0d0887"
             ],
             [
              0.1111111111111111,
              "#46039f"
             ],
             [
              0.2222222222222222,
              "#7201a8"
             ],
             [
              0.3333333333333333,
              "#9c179e"
             ],
             [
              0.4444444444444444,
              "#bd3786"
             ],
             [
              0.5555555555555556,
              "#d8576b"
             ],
             [
              0.6666666666666666,
              "#ed7953"
             ],
             [
              0.7777777777777778,
              "#fb9f3a"
             ],
             [
              0.8888888888888888,
              "#fdca26"
             ],
             [
              1,
              "#f0f921"
             ]
            ],
            "type": "contour"
           }
          ],
          "contourcarpet": [
           {
            "colorbar": {
             "outlinewidth": 0,
             "ticks": ""
            },
            "type": "contourcarpet"
           }
          ],
          "heatmap": [
           {
            "colorbar": {
             "outlinewidth": 0,
             "ticks": ""
            },
            "colorscale": [
             [
              0,
              "#0d0887"
             ],
             [
              0.1111111111111111,
              "#46039f"
             ],
             [
              0.2222222222222222,
              "#7201a8"
             ],
             [
              0.3333333333333333,
              "#9c179e"
             ],
             [
              0.4444444444444444,
              "#bd3786"
             ],
             [
              0.5555555555555556,
              "#d8576b"
             ],
             [
              0.6666666666666666,
              "#ed7953"
             ],
             [
              0.7777777777777778,
              "#fb9f3a"
             ],
             [
              0.8888888888888888,
              "#fdca26"
             ],
             [
              1,
              "#f0f921"
             ]
            ],
            "type": "heatmap"
           }
          ],
          "heatmapgl": [
           {
            "colorbar": {
             "outlinewidth": 0,
             "ticks": ""
            },
            "colorscale": [
             [
              0,
              "#0d0887"
             ],
             [
              0.1111111111111111,
              "#46039f"
             ],
             [
              0.2222222222222222,
              "#7201a8"
             ],
             [
              0.3333333333333333,
              "#9c179e"
             ],
             [
              0.4444444444444444,
              "#bd3786"
             ],
             [
              0.5555555555555556,
              "#d8576b"
             ],
             [
              0.6666666666666666,
              "#ed7953"
             ],
             [
              0.7777777777777778,
              "#fb9f3a"
             ],
             [
              0.8888888888888888,
              "#fdca26"
             ],
             [
              1,
              "#f0f921"
             ]
            ],
            "type": "heatmapgl"
           }
          ],
          "histogram": [
           {
            "marker": {
             "pattern": {
              "fillmode": "overlay",
              "size": 10,
              "solidity": 0.2
             }
            },
            "type": "histogram"
           }
          ],
          "histogram2d": [
           {
            "colorbar": {
             "outlinewidth": 0,
             "ticks": ""
            },
            "colorscale": [
             [
              0,
              "#0d0887"
             ],
             [
              0.1111111111111111,
              "#46039f"
             ],
             [
              0.2222222222222222,
              "#7201a8"
             ],
             [
              0.3333333333333333,
              "#9c179e"
             ],
             [
              0.4444444444444444,
              "#bd3786"
             ],
             [
              0.5555555555555556,
              "#d8576b"
             ],
             [
              0.6666666666666666,
              "#ed7953"
             ],
             [
              0.7777777777777778,
              "#fb9f3a"
             ],
             [
              0.8888888888888888,
              "#fdca26"
             ],
             [
              1,
              "#f0f921"
             ]
            ],
            "type": "histogram2d"
           }
          ],
          "histogram2dcontour": [
           {
            "colorbar": {
             "outlinewidth": 0,
             "ticks": ""
            },
            "colorscale": [
             [
              0,
              "#0d0887"
             ],
             [
              0.1111111111111111,
              "#46039f"
             ],
             [
              0.2222222222222222,
              "#7201a8"
             ],
             [
              0.3333333333333333,
              "#9c179e"
             ],
             [
              0.4444444444444444,
              "#bd3786"
             ],
             [
              0.5555555555555556,
              "#d8576b"
             ],
             [
              0.6666666666666666,
              "#ed7953"
             ],
             [
              0.7777777777777778,
              "#fb9f3a"
             ],
             [
              0.8888888888888888,
              "#fdca26"
             ],
             [
              1,
              "#f0f921"
             ]
            ],
            "type": "histogram2dcontour"
           }
          ],
          "mesh3d": [
           {
            "colorbar": {
             "outlinewidth": 0,
             "ticks": ""
            },
            "type": "mesh3d"
           }
          ],
          "parcoords": [
           {
            "line": {
             "colorbar": {
              "outlinewidth": 0,
              "ticks": ""
             }
            },
            "type": "parcoords"
           }
          ],
          "pie": [
           {
            "automargin": true,
            "type": "pie"
           }
          ],
          "scatter": [
           {
            "fillpattern": {
             "fillmode": "overlay",
             "size": 10,
             "solidity": 0.2
            },
            "type": "scatter"
           }
          ],
          "scatter3d": [
           {
            "line": {
             "colorbar": {
              "outlinewidth": 0,
              "ticks": ""
             }
            },
            "marker": {
             "colorbar": {
              "outlinewidth": 0,
              "ticks": ""
             }
            },
            "type": "scatter3d"
           }
          ],
          "scattercarpet": [
           {
            "marker": {
             "colorbar": {
              "outlinewidth": 0,
              "ticks": ""
             }
            },
            "type": "scattercarpet"
           }
          ],
          "scattergeo": [
           {
            "marker": {
             "colorbar": {
              "outlinewidth": 0,
              "ticks": ""
             }
            },
            "type": "scattergeo"
           }
          ],
          "scattergl": [
           {
            "marker": {
             "colorbar": {
              "outlinewidth": 0,
              "ticks": ""
             }
            },
            "type": "scattergl"
           }
          ],
          "scattermapbox": [
           {
            "marker": {
             "colorbar": {
              "outlinewidth": 0,
              "ticks": ""
             }
            },
            "type": "scattermapbox"
           }
          ],
          "scatterpolar": [
           {
            "marker": {
             "colorbar": {
              "outlinewidth": 0,
              "ticks": ""
             }
            },
            "type": "scatterpolar"
           }
          ],
          "scatterpolargl": [
           {
            "marker": {
             "colorbar": {
              "outlinewidth": 0,
              "ticks": ""
             }
            },
            "type": "scatterpolargl"
           }
          ],
          "scatterternary": [
           {
            "marker": {
             "colorbar": {
              "outlinewidth": 0,
              "ticks": ""
             }
            },
            "type": "scatterternary"
           }
          ],
          "surface": [
           {
            "colorbar": {
             "outlinewidth": 0,
             "ticks": ""
            },
            "colorscale": [
             [
              0,
              "#0d0887"
             ],
             [
              0.1111111111111111,
              "#46039f"
             ],
             [
              0.2222222222222222,
              "#7201a8"
             ],
             [
              0.3333333333333333,
              "#9c179e"
             ],
             [
              0.4444444444444444,
              "#bd3786"
             ],
             [
              0.5555555555555556,
              "#d8576b"
             ],
             [
              0.6666666666666666,
              "#ed7953"
             ],
             [
              0.7777777777777778,
              "#fb9f3a"
             ],
             [
              0.8888888888888888,
              "#fdca26"
             ],
             [
              1,
              "#f0f921"
             ]
            ],
            "type": "surface"
           }
          ],
          "table": [
           {
            "cells": {
             "fill": {
              "color": "#EBF0F8"
             },
             "line": {
              "color": "white"
             }
            },
            "header": {
             "fill": {
              "color": "#C8D4E3"
             },
             "line": {
              "color": "white"
             }
            },
            "type": "table"
           }
          ]
         },
         "layout": {
          "annotationdefaults": {
           "arrowcolor": "#2a3f5f",
           "arrowhead": 0,
           "arrowwidth": 1
          },
          "autotypenumbers": "strict",
          "coloraxis": {
           "colorbar": {
            "outlinewidth": 0,
            "ticks": ""
           }
          },
          "colorscale": {
           "diverging": [
            [
             0,
             "#8e0152"
            ],
            [
             0.1,
             "#c51b7d"
            ],
            [
             0.2,
             "#de77ae"
            ],
            [
             0.3,
             "#f1b6da"
            ],
            [
             0.4,
             "#fde0ef"
            ],
            [
             0.5,
             "#f7f7f7"
            ],
            [
             0.6,
             "#e6f5d0"
            ],
            [
             0.7,
             "#b8e186"
            ],
            [
             0.8,
             "#7fbc41"
            ],
            [
             0.9,
             "#4d9221"
            ],
            [
             1,
             "#276419"
            ]
           ],
           "sequential": [
            [
             0,
             "#0d0887"
            ],
            [
             0.1111111111111111,
             "#46039f"
            ],
            [
             0.2222222222222222,
             "#7201a8"
            ],
            [
             0.3333333333333333,
             "#9c179e"
            ],
            [
             0.4444444444444444,
             "#bd3786"
            ],
            [
             0.5555555555555556,
             "#d8576b"
            ],
            [
             0.6666666666666666,
             "#ed7953"
            ],
            [
             0.7777777777777778,
             "#fb9f3a"
            ],
            [
             0.8888888888888888,
             "#fdca26"
            ],
            [
             1,
             "#f0f921"
            ]
           ],
           "sequentialminus": [
            [
             0,
             "#0d0887"
            ],
            [
             0.1111111111111111,
             "#46039f"
            ],
            [
             0.2222222222222222,
             "#7201a8"
            ],
            [
             0.3333333333333333,
             "#9c179e"
            ],
            [
             0.4444444444444444,
             "#bd3786"
            ],
            [
             0.5555555555555556,
             "#d8576b"
            ],
            [
             0.6666666666666666,
             "#ed7953"
            ],
            [
             0.7777777777777778,
             "#fb9f3a"
            ],
            [
             0.8888888888888888,
             "#fdca26"
            ],
            [
             1,
             "#f0f921"
            ]
           ]
          },
          "colorway": [
           "#636efa",
           "#EF553B",
           "#00cc96",
           "#ab63fa",
           "#FFA15A",
           "#19d3f3",
           "#FF6692",
           "#B6E880",
           "#FF97FF",
           "#FECB52"
          ],
          "font": {
           "color": "#2a3f5f"
          },
          "geo": {
           "bgcolor": "white",
           "lakecolor": "white",
           "landcolor": "#E5ECF6",
           "showlakes": true,
           "showland": true,
           "subunitcolor": "white"
          },
          "hoverlabel": {
           "align": "left"
          },
          "hovermode": "closest",
          "mapbox": {
           "style": "light"
          },
          "paper_bgcolor": "white",
          "plot_bgcolor": "#E5ECF6",
          "polar": {
           "angularaxis": {
            "gridcolor": "white",
            "linecolor": "white",
            "ticks": ""
           },
           "bgcolor": "#E5ECF6",
           "radialaxis": {
            "gridcolor": "white",
            "linecolor": "white",
            "ticks": ""
           }
          },
          "scene": {
           "xaxis": {
            "backgroundcolor": "#E5ECF6",
            "gridcolor": "white",
            "gridwidth": 2,
            "linecolor": "white",
            "showbackground": true,
            "ticks": "",
            "zerolinecolor": "white"
           },
           "yaxis": {
            "backgroundcolor": "#E5ECF6",
            "gridcolor": "white",
            "gridwidth": 2,
            "linecolor": "white",
            "showbackground": true,
            "ticks": "",
            "zerolinecolor": "white"
           },
           "zaxis": {
            "backgroundcolor": "#E5ECF6",
            "gridcolor": "white",
            "gridwidth": 2,
            "linecolor": "white",
            "showbackground": true,
            "ticks": "",
            "zerolinecolor": "white"
           }
          },
          "shapedefaults": {
           "line": {
            "color": "#2a3f5f"
           }
          },
          "ternary": {
           "aaxis": {
            "gridcolor": "white",
            "linecolor": "white",
            "ticks": ""
           },
           "baxis": {
            "gridcolor": "white",
            "linecolor": "white",
            "ticks": ""
           },
           "bgcolor": "#E5ECF6",
           "caxis": {
            "gridcolor": "white",
            "linecolor": "white",
            "ticks": ""
           }
          },
          "title": {
           "x": 0.05
          },
          "xaxis": {
           "automargin": true,
           "gridcolor": "white",
           "linecolor": "white",
           "ticks": "",
           "title": {
            "standoff": 15
           },
           "zerolinecolor": "white",
           "zerolinewidth": 2
          },
          "yaxis": {
           "automargin": true,
           "gridcolor": "white",
           "linecolor": "white",
           "ticks": "",
           "title": {
            "standoff": 15
           },
           "zerolinecolor": "white",
           "zerolinewidth": 2
          }
         }
        },
        "title": {
         "text": "Temperature, Humidity, and Pressure Over Time"
        },
        "xaxis": {
         "anchor": "y",
         "domain": [
          0,
          1
         ],
         "matches": "x3",
         "showticklabels": false,
         "title": {
          "text": "Date and Time"
         }
        },
        "xaxis2": {
         "anchor": "y2",
         "domain": [
          0,
          1
         ],
         "matches": "x3",
         "showticklabels": false
        },
        "xaxis3": {
         "anchor": "y3",
         "domain": [
          0,
          1
         ]
        },
        "yaxis": {
         "anchor": "x",
         "domain": [
          0.7777777777777778,
          1
         ],
         "title": {
          "text": "Value"
         }
        },
        "yaxis2": {
         "anchor": "x2",
         "domain": [
          0.3888888888888889,
          0.6111111111111112
         ]
        },
        "yaxis3": {
         "anchor": "x3",
         "domain": [
          0,
          0.22222222222222224
         ]
        }
       }
      },
      "text/html": [
       "<div>                            <div id=\"31046d98-aa70-4b48-99ed-4a880a2981e8\" class=\"plotly-graph-div\" style=\"height:525px; width:100%;\"></div>            <script type=\"text/javascript\">                require([\"plotly\"], function(Plotly) {                    window.PLOTLYENV=window.PLOTLYENV || {};                                    if (document.getElementById(\"31046d98-aa70-4b48-99ed-4a880a2981e8\")) {                    Plotly.newPlot(                        \"31046d98-aa70-4b48-99ed-4a880a2981e8\",                        [{\"mode\":\"lines\",\"name\":\"Temperature\",\"x\":[\"2023-08-01T00:00:00\",\"2023-08-01T01:00:00\",\"2023-08-01T02:00:00\",\"2023-08-01T03:00:00\"],\"y\":[25,26,24,23],\"type\":\"scatter\",\"xaxis\":\"x\",\"yaxis\":\"y\"},{\"mode\":\"lines\",\"name\":\"Humidity\",\"x\":[\"2023-08-01T00:00:00\",\"2023-08-01T01:00:00\",\"2023-08-01T02:00:00\",\"2023-08-01T03:00:00\"],\"y\":[60,65,62,58],\"type\":\"scatter\",\"xaxis\":\"x2\",\"yaxis\":\"y2\"},{\"mode\":\"lines\",\"name\":\"Pressure\",\"x\":[\"2023-08-01T00:00:00\",\"2023-08-01T01:00:00\",\"2023-08-01T02:00:00\",\"2023-08-01T03:00:00\"],\"y\":[1010,1012,1008,1011],\"type\":\"scatter\",\"xaxis\":\"x3\",\"yaxis\":\"y3\"}],                        {\"template\":{\"data\":{\"histogram2dcontour\":[{\"type\":\"histogram2dcontour\",\"colorbar\":{\"outlinewidth\":0,\"ticks\":\"\"},\"colorscale\":[[0.0,\"#0d0887\"],[0.1111111111111111,\"#46039f\"],[0.2222222222222222,\"#7201a8\"],[0.3333333333333333,\"#9c179e\"],[0.4444444444444444,\"#bd3786\"],[0.5555555555555556,\"#d8576b\"],[0.6666666666666666,\"#ed7953\"],[0.7777777777777778,\"#fb9f3a\"],[0.8888888888888888,\"#fdca26\"],[1.0,\"#f0f921\"]]}],\"choropleth\":[{\"type\":\"choropleth\",\"colorbar\":{\"outlinewidth\":0,\"ticks\":\"\"}}],\"histogram2d\":[{\"type\":\"histogram2d\",\"colorbar\":{\"outlinewidth\":0,\"ticks\":\"\"},\"colorscale\":[[0.0,\"#0d0887\"],[0.1111111111111111,\"#46039f\"],[0.2222222222222222,\"#7201a8\"],[0.3333333333333333,\"#9c179e\"],[0.4444444444444444,\"#bd3786\"],[0.5555555555555556,\"#d8576b\"],[0.6666666666666666,\"#ed7953\"],[0.7777777777777778,\"#fb9f3a\"],[0.8888888888888888,\"#fdca26\"],[1.0,\"#f0f921\"]]}],\"heatmap\":[{\"type\":\"heatmap\",\"colorbar\":{\"outlinewidth\":0,\"ticks\":\"\"},\"colorscale\":[[0.0,\"#0d0887\"],[0.1111111111111111,\"#46039f\"],[0.2222222222222222,\"#7201a8\"],[0.3333333333333333,\"#9c179e\"],[0.4444444444444444,\"#bd3786\"],[0.5555555555555556,\"#d8576b\"],[0.6666666666666666,\"#ed7953\"],[0.7777777777777778,\"#fb9f3a\"],[0.8888888888888888,\"#fdca26\"],[1.0,\"#f0f921\"]]}],\"heatmapgl\":[{\"type\":\"heatmapgl\",\"colorbar\":{\"outlinewidth\":0,\"ticks\":\"\"},\"colorscale\":[[0.0,\"#0d0887\"],[0.1111111111111111,\"#46039f\"],[0.2222222222222222,\"#7201a8\"],[0.3333333333333333,\"#9c179e\"],[0.4444444444444444,\"#bd3786\"],[0.5555555555555556,\"#d8576b\"],[0.6666666666666666,\"#ed7953\"],[0.7777777777777778,\"#fb9f3a\"],[0.8888888888888888,\"#fdca26\"],[1.0,\"#f0f921\"]]}],\"contourcarpet\":[{\"type\":\"contourcarpet\",\"colorbar\":{\"outlinewidth\":0,\"ticks\":\"\"}}],\"contour\":[{\"type\":\"contour\",\"colorbar\":{\"outlinewidth\":0,\"ticks\":\"\"},\"colorscale\":[[0.0,\"#0d0887\"],[0.1111111111111111,\"#46039f\"],[0.2222222222222222,\"#7201a8\"],[0.3333333333333333,\"#9c179e\"],[0.4444444444444444,\"#bd3786\"],[0.5555555555555556,\"#d8576b\"],[0.6666666666666666,\"#ed7953\"],[0.7777777777777778,\"#fb9f3a\"],[0.8888888888888888,\"#fdca26\"],[1.0,\"#f0f921\"]]}],\"surface\":[{\"type\":\"surface\",\"colorbar\":{\"outlinewidth\":0,\"ticks\":\"\"},\"colorscale\":[[0.0,\"#0d0887\"],[0.1111111111111111,\"#46039f\"],[0.2222222222222222,\"#7201a8\"],[0.3333333333333333,\"#9c179e\"],[0.4444444444444444,\"#bd3786\"],[0.5555555555555556,\"#d8576b\"],[0.6666666666666666,\"#ed7953\"],[0.7777777777777778,\"#fb9f3a\"],[0.8888888888888888,\"#fdca26\"],[1.0,\"#f0f921\"]]}],\"mesh3d\":[{\"type\":\"mesh3d\",\"colorbar\":{\"outlinewidth\":0,\"ticks\":\"\"}}],\"scatter\":[{\"fillpattern\":{\"fillmode\":\"overlay\",\"size\":10,\"solidity\":0.2},\"type\":\"scatter\"}],\"parcoords\":[{\"type\":\"parcoords\",\"line\":{\"colorbar\":{\"outlinewidth\":0,\"ticks\":\"\"}}}],\"scatterpolargl\":[{\"type\":\"scatterpolargl\",\"marker\":{\"colorbar\":{\"outlinewidth\":0,\"ticks\":\"\"}}}],\"bar\":[{\"error_x\":{\"color\":\"#2a3f5f\"},\"error_y\":{\"color\":\"#2a3f5f\"},\"marker\":{\"line\":{\"color\":\"#E5ECF6\",\"width\":0.5},\"pattern\":{\"fillmode\":\"overlay\",\"size\":10,\"solidity\":0.2}},\"type\":\"bar\"}],\"scattergeo\":[{\"type\":\"scattergeo\",\"marker\":{\"colorbar\":{\"outlinewidth\":0,\"ticks\":\"\"}}}],\"scatterpolar\":[{\"type\":\"scatterpolar\",\"marker\":{\"colorbar\":{\"outlinewidth\":0,\"ticks\":\"\"}}}],\"histogram\":[{\"marker\":{\"pattern\":{\"fillmode\":\"overlay\",\"size\":10,\"solidity\":0.2}},\"type\":\"histogram\"}],\"scattergl\":[{\"type\":\"scattergl\",\"marker\":{\"colorbar\":{\"outlinewidth\":0,\"ticks\":\"\"}}}],\"scatter3d\":[{\"type\":\"scatter3d\",\"line\":{\"colorbar\":{\"outlinewidth\":0,\"ticks\":\"\"}},\"marker\":{\"colorbar\":{\"outlinewidth\":0,\"ticks\":\"\"}}}],\"scattermapbox\":[{\"type\":\"scattermapbox\",\"marker\":{\"colorbar\":{\"outlinewidth\":0,\"ticks\":\"\"}}}],\"scatterternary\":[{\"type\":\"scatterternary\",\"marker\":{\"colorbar\":{\"outlinewidth\":0,\"ticks\":\"\"}}}],\"scattercarpet\":[{\"type\":\"scattercarpet\",\"marker\":{\"colorbar\":{\"outlinewidth\":0,\"ticks\":\"\"}}}],\"carpet\":[{\"aaxis\":{\"endlinecolor\":\"#2a3f5f\",\"gridcolor\":\"white\",\"linecolor\":\"white\",\"minorgridcolor\":\"white\",\"startlinecolor\":\"#2a3f5f\"},\"baxis\":{\"endlinecolor\":\"#2a3f5f\",\"gridcolor\":\"white\",\"linecolor\":\"white\",\"minorgridcolor\":\"white\",\"startlinecolor\":\"#2a3f5f\"},\"type\":\"carpet\"}],\"table\":[{\"cells\":{\"fill\":{\"color\":\"#EBF0F8\"},\"line\":{\"color\":\"white\"}},\"header\":{\"fill\":{\"color\":\"#C8D4E3\"},\"line\":{\"color\":\"white\"}},\"type\":\"table\"}],\"barpolar\":[{\"marker\":{\"line\":{\"color\":\"#E5ECF6\",\"width\":0.5},\"pattern\":{\"fillmode\":\"overlay\",\"size\":10,\"solidity\":0.2}},\"type\":\"barpolar\"}],\"pie\":[{\"automargin\":true,\"type\":\"pie\"}]},\"layout\":{\"autotypenumbers\":\"strict\",\"colorway\":[\"#636efa\",\"#EF553B\",\"#00cc96\",\"#ab63fa\",\"#FFA15A\",\"#19d3f3\",\"#FF6692\",\"#B6E880\",\"#FF97FF\",\"#FECB52\"],\"font\":{\"color\":\"#2a3f5f\"},\"hovermode\":\"closest\",\"hoverlabel\":{\"align\":\"left\"},\"paper_bgcolor\":\"white\",\"plot_bgcolor\":\"#E5ECF6\",\"polar\":{\"bgcolor\":\"#E5ECF6\",\"angularaxis\":{\"gridcolor\":\"white\",\"linecolor\":\"white\",\"ticks\":\"\"},\"radialaxis\":{\"gridcolor\":\"white\",\"linecolor\":\"white\",\"ticks\":\"\"}},\"ternary\":{\"bgcolor\":\"#E5ECF6\",\"aaxis\":{\"gridcolor\":\"white\",\"linecolor\":\"white\",\"ticks\":\"\"},\"baxis\":{\"gridcolor\":\"white\",\"linecolor\":\"white\",\"ticks\":\"\"},\"caxis\":{\"gridcolor\":\"white\",\"linecolor\":\"white\",\"ticks\":\"\"}},\"coloraxis\":{\"colorbar\":{\"outlinewidth\":0,\"ticks\":\"\"}},\"colorscale\":{\"sequential\":[[0.0,\"#0d0887\"],[0.1111111111111111,\"#46039f\"],[0.2222222222222222,\"#7201a8\"],[0.3333333333333333,\"#9c179e\"],[0.4444444444444444,\"#bd3786\"],[0.5555555555555556,\"#d8576b\"],[0.6666666666666666,\"#ed7953\"],[0.7777777777777778,\"#fb9f3a\"],[0.8888888888888888,\"#fdca26\"],[1.0,\"#f0f921\"]],\"sequentialminus\":[[0.0,\"#0d0887\"],[0.1111111111111111,\"#46039f\"],[0.2222222222222222,\"#7201a8\"],[0.3333333333333333,\"#9c179e\"],[0.4444444444444444,\"#bd3786\"],[0.5555555555555556,\"#d8576b\"],[0.6666666666666666,\"#ed7953\"],[0.7777777777777778,\"#fb9f3a\"],[0.8888888888888888,\"#fdca26\"],[1.0,\"#f0f921\"]],\"diverging\":[[0,\"#8e0152\"],[0.1,\"#c51b7d\"],[0.2,\"#de77ae\"],[0.3,\"#f1b6da\"],[0.4,\"#fde0ef\"],[0.5,\"#f7f7f7\"],[0.6,\"#e6f5d0\"],[0.7,\"#b8e186\"],[0.8,\"#7fbc41\"],[0.9,\"#4d9221\"],[1,\"#276419\"]]},\"xaxis\":{\"gridcolor\":\"white\",\"linecolor\":\"white\",\"ticks\":\"\",\"title\":{\"standoff\":15},\"zerolinecolor\":\"white\",\"automargin\":true,\"zerolinewidth\":2},\"yaxis\":{\"gridcolor\":\"white\",\"linecolor\":\"white\",\"ticks\":\"\",\"title\":{\"standoff\":15},\"zerolinecolor\":\"white\",\"automargin\":true,\"zerolinewidth\":2},\"scene\":{\"xaxis\":{\"backgroundcolor\":\"#E5ECF6\",\"gridcolor\":\"white\",\"linecolor\":\"white\",\"showbackground\":true,\"ticks\":\"\",\"zerolinecolor\":\"white\",\"gridwidth\":2},\"yaxis\":{\"backgroundcolor\":\"#E5ECF6\",\"gridcolor\":\"white\",\"linecolor\":\"white\",\"showbackground\":true,\"ticks\":\"\",\"zerolinecolor\":\"white\",\"gridwidth\":2},\"zaxis\":{\"backgroundcolor\":\"#E5ECF6\",\"gridcolor\":\"white\",\"linecolor\":\"white\",\"showbackground\":true,\"ticks\":\"\",\"zerolinecolor\":\"white\",\"gridwidth\":2}},\"shapedefaults\":{\"line\":{\"color\":\"#2a3f5f\"}},\"annotationdefaults\":{\"arrowcolor\":\"#2a3f5f\",\"arrowhead\":0,\"arrowwidth\":1},\"geo\":{\"bgcolor\":\"white\",\"landcolor\":\"#E5ECF6\",\"subunitcolor\":\"white\",\"showland\":true,\"showlakes\":true,\"lakecolor\":\"white\"},\"title\":{\"x\":0.05},\"mapbox\":{\"style\":\"light\"}}},\"xaxis\":{\"anchor\":\"y\",\"domain\":[0.0,1.0],\"matches\":\"x3\",\"showticklabels\":false,\"title\":{\"text\":\"Date and Time\"}},\"yaxis\":{\"anchor\":\"x\",\"domain\":[0.7777777777777778,1.0],\"title\":{\"text\":\"Value\"}},\"xaxis2\":{\"anchor\":\"y2\",\"domain\":[0.0,1.0],\"matches\":\"x3\",\"showticklabels\":false},\"yaxis2\":{\"anchor\":\"x2\",\"domain\":[0.3888888888888889,0.6111111111111112]},\"xaxis3\":{\"anchor\":\"y3\",\"domain\":[0.0,1.0]},\"yaxis3\":{\"anchor\":\"x3\",\"domain\":[0.0,0.22222222222222224]},\"annotations\":[{\"font\":{\"size\":16},\"showarrow\":false,\"text\":\"Temperature\",\"x\":0.5,\"xanchor\":\"center\",\"xref\":\"paper\",\"y\":1.0,\"yanchor\":\"bottom\",\"yref\":\"paper\"},{\"font\":{\"size\":16},\"showarrow\":false,\"text\":\"Humidity\",\"x\":0.5,\"xanchor\":\"center\",\"xref\":\"paper\",\"y\":0.6111111111111112,\"yanchor\":\"bottom\",\"yref\":\"paper\"},{\"font\":{\"size\":16},\"showarrow\":false,\"text\":\"Pressure\",\"x\":0.5,\"xanchor\":\"center\",\"xref\":\"paper\",\"y\":0.22222222222222224,\"yanchor\":\"bottom\",\"yref\":\"paper\"}],\"title\":{\"text\":\"Temperature, Humidity, and Pressure Over Time\"}},                        {\"responsive\": true}                    ).then(function(){\n",
       "                            \n",
       "var gd = document.getElementById('31046d98-aa70-4b48-99ed-4a880a2981e8');\n",
       "var x = new MutationObserver(function (mutations, observer) {{\n",
       "        var display = window.getComputedStyle(gd).display;\n",
       "        if (!display || display === 'none') {{\n",
       "            console.log([gd, 'removed!']);\n",
       "            Plotly.purge(gd);\n",
       "            observer.disconnect();\n",
       "        }}\n",
       "}});\n",
       "\n",
       "// Listen for the removal of the full notebook cells\n",
       "var notebookContainer = gd.closest('#notebook-container');\n",
       "if (notebookContainer) {{\n",
       "    x.observe(notebookContainer, {childList: true});\n",
       "}}\n",
       "\n",
       "// Listen for the clearing of the current output cell\n",
       "var outputEl = gd.closest('.output');\n",
       "if (outputEl) {{\n",
       "    x.observe(outputEl, {childList: true});\n",
       "}}\n",
       "\n",
       "                        })                };                });            </script>        </div>"
      ]
     },
     "metadata": {},
     "output_type": "display_data"
    }
   ],
   "source": [
    "import pandas as pd\n",
    "import plotly.graph_objects as go\n",
    "from plotly.subplots import make_subplots\n",
    "\n",
    "# Sample data\n",
    "data = {\n",
    "    'date_time': ['2023-08-01 00:00:00', '2023-08-01 01:00:00', '2023-08-01 02:00:00', '2023-08-01 03:00:00'],\n",
    "    'temperature': [25, 26, 24, 23],\n",
    "    'humidity': [60, 65, 62, 58],\n",
    "    'pressure': [1010, 1012, 1008, 1011]\n",
    "}\n",
    "\n",
    "df = pd.DataFrame(data)\n",
    "df['date_time'] = pd.to_datetime(df['date_time'])\n",
    "\n",
    "# Create subplots\n",
    "fig = make_subplots(rows=3, cols=1, shared_xaxes=True,\n",
    "                    subplot_titles=['Temperature', 'Humidity', 'Pressure'])\n",
    "\n",
    "# Add traces to subplots\n",
    "fig.add_trace(go.Scatter(x=df['date_time'], y=df['temperature'], mode='lines', name='Temperature'), row=1, col=1)\n",
    "fig.add_trace(go.Scatter(x=df['date_time'], y=df['humidity'], mode='lines', name='Humidity'), row=2, col=1)\n",
    "fig.add_trace(go.Scatter(x=df['date_time'], y=df['pressure'], mode='lines', name='Pressure'), row=3, col=1)\n",
    "\n",
    "# Update layout\n",
    "fig.update_layout(title='Temperature, Humidity, and Pressure Over Time',\n",
    "                  xaxis=dict(title='Date and Time'),\n",
    "                  yaxis=dict(title='Value'))\n",
    "\n",
    "# Show the plot\n",
    "fig.show()\n"
   ]
  },
  {
   "cell_type": "code",
   "execution_count": null,
   "id": "617f2920",
   "metadata": {},
   "outputs": [],
   "source": [
    "import sys\n",
    "import matplotlib.pyplot as plt\n",
    "from PyQt5 import QtWidgets\n",
    "from matplotlib.backends.backend_qt5agg import FigureCanvasQTAgg\n",
    "\n",
    "app = QtWidgets.QApplication(sys.argv)\n",
    "\n",
    "window = QtWidgets.QWidget()\n",
    "window.setWindowTitle('PyQt5 Matplotlib Example')\n",
    "\n",
    "figure = plt.figure()\n",
    "canvas = FigureCanvasQTAgg(figure)\n",
    "\n",
    "axes = figure.add_subplot('111')\n",
    "axes.plot([1, 2, 3, 4, 5], [2, 4, 6, 8, 10])\n",
    "axes.set_xlabel('X')\n",
    "axes.set_ylabel('Y')\n",
    "\n",
    "canvas.draw()\n",
    "\n",
    "vbox = QtWidgets.QVBoxLayout()\n",
    "vbox.addWidget(canvas)\n",
    "\n",
    "window.setLayout(vbox)\n",
    "\n",
    "window.show()\n",
    "\n",
    "sys.exit(app.exec_())\n"
   ]
  },
  {
   "cell_type": "code",
   "execution_count": null,
   "id": "c97b504f",
   "metadata": {},
   "outputs": [],
   "source": []
  }
 ],
 "metadata": {
  "kernelspec": {
   "display_name": "Python 3 (ipykernel)",
   "language": "python",
   "name": "python3"
  },
  "language_info": {
   "codemirror_mode": {
    "name": "ipython",
    "version": 3
   },
   "file_extension": ".py",
   "mimetype": "text/x-python",
   "name": "python",
   "nbconvert_exporter": "python",
   "pygments_lexer": "ipython3",
   "version": "3.10.9"
  }
 },
 "nbformat": 4,
 "nbformat_minor": 5
}
